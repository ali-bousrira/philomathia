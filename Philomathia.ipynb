{
 "cells": [
  {
   "cell_type": "markdown",
   "metadata": {
    "id": "mYr0YGpbJpWY"
   },
   "source": [
    "# Philomathia\n"
   ]
  },
  {
   "cell_type": "markdown",
   "metadata": {
    "id": "DDnH8RevvQ2-"
   },
   "source": [
    "Sommaire :\n",
    "* Algèbre linéaire\n",
    "* Probabilités et Statistique\n",
    "* Calcul de dérivée\n",
    "* Aller plus loin..."
   ]
  },
  {
   "cell_type": "markdown",
   "metadata": {
    "id": "mqYa4P1AYLF8"
   },
   "source": [
    "**Pourquoi Python pour les mathématiques ?**\n",
    "\n",
    "Le langage Python est un langage généraliste, offrant des bibliothèques puissantes en calcul numérique (NumPy, SciPy, SymPy, Matplotlib,...), facilitant les opérations mathématiques plus ou moins complexes, l'analyse statistique et la visualisation des données. Son interactivité via des environnements comme Jupyter Notebook favorise un processus de développement itératif.\n",
    "La communauté active de développeurs et les nombreuses ressources en ligne font de Python un outil incontournable."
   ]
  },
  {
   "cell_type": "markdown",
   "metadata": {
    "id": "hdEXFBsImr5q"
   },
   "source": [
    "**Pourquoi ce projet ?**\n",
    "\n",
    "Dans ce projet, nous allons aborder des notions de mathématiques basiques nécessaires à la prochaine Unit, le Machine Learning. Pas de panique, nous n'allons rien inventer, nous allons simplement utiliser Python afin de manipuler des vecteurs, des matrices, des probabilités, des graphes faire des simulations et d'autres calculs sympatiques !\n",
    "\n",
    "\\\n",
    "\n",
    "**Il n'est bien sûr pas question d'apprendre par coeur les notions apprises dans ce sujet, mais de s'en servir comme un guide pour d'éventuels futurs questionnements.**\n",
    "\n",
    "\\\n",
    "\n",
    "**Merci de lire et de répondre attentivement aux questions ci-dessous. Appuyez-vous sur les ressources de la base de connaissances.**"
   ]
  },
  {
   "cell_type": "markdown",
   "metadata": {
    "id": "s_6BNQr_fGrq"
   },
   "source": [
    "# Librairies utilisées"
   ]
  },
  {
   "cell_type": "code",
   "execution_count": 1,
   "metadata": {
    "id": "2WjXfJYMi0aA"
   },
   "outputs": [],
   "source": [
    "import numpy as np\n",
    "import pandas as pd\n",
    "import sympy as sp\n",
    "import copy \n",
    "\n",
    "import matplotlib.pyplot as plt\n",
    "\n",
    "from sklearn.datasets import load_wine"
   ]
  },
  {
   "cell_type": "markdown",
   "metadata": {
    "id": "tMJvSpupa59E"
   },
   "source": [
    "# Algèbre linéaire\n",
    "Vous devrez exclusivement utiliser la librairie `numpy` dans la section suivante."
   ]
  },
  {
   "cell_type": "markdown",
   "metadata": {
    "id": "ralGJ7YaHXLm"
   },
   "source": [
    "## **Job 0**\n",
    "\n",
    "1. Créez le vecteur ligne $v = (4, 1, 9)$\n",
    "2. Additionnez, multipliez et divisez le vecteur $v$ par $2$  \n",
    "\n"
   ]
  },
  {
   "cell_type": "code",
   "execution_count": 2,
   "metadata": {
    "id": "_JUmL7sQMsCV"
   },
   "outputs": [
    {
     "data": {
      "text/plain": [
       "array([4, 1, 9])"
      ]
     },
     "execution_count": 2,
     "metadata": {},
     "output_type": "execute_result"
    }
   ],
   "source": [
    "v = np.array ([4, 1, 9])\n",
    "v"
   ]
  },
  {
   "cell_type": "markdown",
   "metadata": {
    "id": "aheDJxhm1vNL"
   },
   "source": [
    "--------------------------------------------------------------------------------\n"
   ]
  },
  {
   "cell_type": "markdown",
   "metadata": {
    "id": "ZkcCZMIdMw5I"
   },
   "source": [
    "## **Job 1**\n",
    "Additionnez le vecteur $v$ avec le vecteur $w$, définie comme suit $w = (-1, -1, 0)$"
   ]
  },
  {
   "cell_type": "code",
   "execution_count": 3,
   "metadata": {
    "id": "Uf29sdXcM58l"
   },
   "outputs": [
    {
     "data": {
      "text/plain": [
       "array([3, 0, 9])"
      ]
     },
     "execution_count": 3,
     "metadata": {},
     "output_type": "execute_result"
    }
   ],
   "source": [
    "w = np.array ([-1, -1, 0])\n",
    "v + w"
   ]
  },
  {
   "cell_type": "markdown",
   "metadata": {
    "id": "ITMFuM1BgG6H"
   },
   "source": [
    "-----------------------------------------------------------------"
   ]
  },
  {
   "cell_type": "markdown",
   "metadata": {
    "id": "yIMtWbHTNgme"
   },
   "source": [
    "## **Job 2**\n",
    "Soient les matrices $M$ et $N$ définies comme suit :\n",
    "$$M = \\begin{pmatrix}\n",
    "1 & 2  \\\\\n",
    "5 & 6\n",
    "\\end{pmatrix},\\space N = \\begin{pmatrix}\n",
    "1 & 1 & -1  \\\\\n",
    "0 & 0 & 1\n",
    "\\end{pmatrix} $$\n",
    "\n",
    "1. Créez les matrices $M$ et $N$. Quelles sont les dimensions de chacune ? Sont-elles des matrices carrées ?\n",
    "2. Est-il possible d'additionner $M$ et $N$ ? Justifiez. Si oui, calculez l'addition.\n",
    "3. Est-il possible de faire le produit matriciel de M par N ? Justifiez. Si oui, calculez le produit.\n",
    "\n"
   ]
  },
  {
   "cell_type": "markdown",
   "metadata": {},
   "source": [
    "1)"
   ]
  },
  {
   "cell_type": "code",
   "execution_count": 4,
   "metadata": {
    "id": "smbJ7DPBfQxT"
   },
   "outputs": [],
   "source": [
    "m = np.array ([[1, 2], [5, 6]])\n",
    "n = np.array ([[1, 1, -1], [0, 0, 1]])"
   ]
  },
  {
   "cell_type": "code",
   "execution_count": 5,
   "metadata": {},
   "outputs": [
    {
     "data": {
      "text/plain": [
       "(2, 2)"
      ]
     },
     "execution_count": 5,
     "metadata": {},
     "output_type": "execute_result"
    }
   ],
   "source": [
    "# m est carre car, sa largeur egale sa hauteur\n",
    "m.shape\n"
   ]
  },
  {
   "cell_type": "code",
   "execution_count": 6,
   "metadata": {},
   "outputs": [
    {
     "data": {
      "text/plain": [
       "(2, 3)"
      ]
     },
     "execution_count": 6,
     "metadata": {},
     "output_type": "execute_result"
    }
   ],
   "source": [
    "#n n'est pas care, sa hauteur est differente de sa largeur\n",
    "n.shape"
   ]
  },
  {
   "cell_type": "markdown",
   "metadata": {},
   "source": [
    "2)"
   ]
  },
  {
   "cell_type": "code",
   "execution_count": 7,
   "metadata": {},
   "outputs": [
    {
     "data": {
      "text/plain": [
       "False"
      ]
     },
     "execution_count": 7,
     "metadata": {},
     "output_type": "execute_result"
    }
   ],
   "source": [
    "# ont peut pas les aditionner, car leur taille nest pas egale\n",
    "m.shape == n.shape"
   ]
  },
  {
   "cell_type": "markdown",
   "metadata": {},
   "source": [
    "3)"
   ]
  },
  {
   "cell_type": "code",
   "execution_count": 8,
   "metadata": {},
   "outputs": [
    {
     "data": {
      "text/plain": [
       "True"
      ]
     },
     "execution_count": 8,
     "metadata": {},
     "output_type": "execute_result"
    }
   ],
   "source": [
    "#oui car la largeur de m egale la hauteur de n\n",
    "m.shape [1] == n.shape [0]"
   ]
  },
  {
   "cell_type": "code",
   "execution_count": 9,
   "metadata": {},
   "outputs": [
    {
     "data": {
      "text/plain": [
       "array([[1, 1, 1],\n",
       "       [5, 5, 1]])"
      ]
     },
     "execution_count": 9,
     "metadata": {},
     "output_type": "execute_result"
    }
   ],
   "source": [
    "m@n"
   ]
  },
  {
   "cell_type": "markdown",
   "metadata": {
    "id": "bPsxeP6rfapL"
   },
   "source": [
    "-----------------------------------"
   ]
  },
  {
   "cell_type": "markdown",
   "metadata": {
    "id": "W5Vfaozbt7_a"
   },
   "source": [
    "## **Job 3**\n",
    "Soit la matrice suivante :\n",
    "$$A = \\begin{pmatrix}\n",
    "1 & 2 & 3 & 4 \\\\\n",
    "5 & 6 & 7 & 8 \\\\\n",
    "9 & 10 & 11 & 12 \\\\\n",
    "13 & 14 & 15 & 16\n",
    "\\end{pmatrix} $$\n",
    "\n",
    "1. Créez et affichez la matrice A\n",
    "\n",
    "2. Créez une copie $C$ de la matrice $A$\n",
    "\n",
    "3. Créez une copie superficielle $B$ de la matrice $A$, sans copier sa référence\n",
    "\n",
    "4. Affichez la valeur se trouvant à la ligne 2 et à la colonne 3\n",
    "\n",
    "5. Affichez tous les éléments de la $2^{ème}$ ligne\n",
    "\n",
    "6. Affichez tous les éléments de la $1^{ème}$ colonne\n",
    "\n",
    "7. Affichez la diagonale de $A$\n",
    "\n",
    "8. Multipliez la matrice $A$ par $\\frac{1}{2}$"
   ]
  },
  {
   "cell_type": "markdown",
   "metadata": {},
   "source": [
    "1)"
   ]
  },
  {
   "cell_type": "code",
   "execution_count": 10,
   "metadata": {
    "id": "OLlKmDT1gPsr"
   },
   "outputs": [
    {
     "data": {
      "text/plain": [
       "array([[ 1,  2,  3,  4],\n",
       "       [ 5,  6,  7,  8],\n",
       "       [ 9, 10, 11, 12],\n",
       "       [13, 14, 15, 16]])"
      ]
     },
     "execution_count": 10,
     "metadata": {},
     "output_type": "execute_result"
    }
   ],
   "source": [
    "A = np.arange(1, 17).reshape((4, 4))\n",
    "A"
   ]
  },
  {
   "cell_type": "markdown",
   "metadata": {},
   "source": [
    "2)"
   ]
  },
  {
   "cell_type": "code",
   "execution_count": 11,
   "metadata": {},
   "outputs": [
    {
     "data": {
      "text/plain": [
       "array([[ 1,  2,  3,  4],\n",
       "       [ 5,  6,  7,  8],\n",
       "       [ 9, 10, 11, 12],\n",
       "       [13, 14, 15, 16]])"
      ]
     },
     "execution_count": 11,
     "metadata": {},
     "output_type": "execute_result"
    }
   ],
   "source": [
    "C = copy.deepcopy (A)\n",
    "C"
   ]
  },
  {
   "cell_type": "markdown",
   "metadata": {},
   "source": [
    "3)"
   ]
  },
  {
   "cell_type": "code",
   "execution_count": 12,
   "metadata": {},
   "outputs": [
    {
     "data": {
      "text/plain": [
       "array([[ 1,  2,  3,  4],\n",
       "       [ 5,  6,  7,  8],\n",
       "       [ 9, 10, 11, 12],\n",
       "       [13, 14, 15, 16]])"
      ]
     },
     "execution_count": 12,
     "metadata": {},
     "output_type": "execute_result"
    }
   ],
   "source": [
    "B = A.copy ()\n",
    "B"
   ]
  },
  {
   "cell_type": "markdown",
   "metadata": {},
   "source": [
    "4)"
   ]
  },
  {
   "cell_type": "code",
   "execution_count": 13,
   "metadata": {},
   "outputs": [
    {
     "data": {
      "text/plain": [
       "7"
      ]
     },
     "execution_count": 13,
     "metadata": {},
     "output_type": "execute_result"
    }
   ],
   "source": [
    "A [1] [2]"
   ]
  },
  {
   "cell_type": "markdown",
   "metadata": {},
   "source": [
    "5)"
   ]
  },
  {
   "cell_type": "code",
   "execution_count": 14,
   "metadata": {},
   "outputs": [
    {
     "data": {
      "text/plain": [
       "array([5, 6, 7, 8])"
      ]
     },
     "execution_count": 14,
     "metadata": {},
     "output_type": "execute_result"
    }
   ],
   "source": [
    "A [1]"
   ]
  },
  {
   "cell_type": "markdown",
   "metadata": {},
   "source": [
    "6)"
   ]
  },
  {
   "cell_type": "code",
   "execution_count": 15,
   "metadata": {},
   "outputs": [
    {
     "data": {
      "text/plain": [
       "array([ 1,  5,  9, 13])"
      ]
     },
     "execution_count": 15,
     "metadata": {},
     "output_type": "execute_result"
    }
   ],
   "source": [
    "A [:, 0]"
   ]
  },
  {
   "cell_type": "markdown",
   "metadata": {},
   "source": [
    "7)"
   ]
  },
  {
   "cell_type": "code",
   "execution_count": 16,
   "metadata": {},
   "outputs": [
    {
     "data": {
      "text/plain": [
       "array([ 1,  6, 11, 16])"
      ]
     },
     "execution_count": 16,
     "metadata": {},
     "output_type": "execute_result"
    }
   ],
   "source": [
    "A.diagonal ()"
   ]
  },
  {
   "cell_type": "markdown",
   "metadata": {},
   "source": [
    "8)"
   ]
  },
  {
   "cell_type": "code",
   "execution_count": 17,
   "metadata": {},
   "outputs": [
    {
     "data": {
      "text/plain": [
       "array([[0.5, 1. , 1.5, 2. ],\n",
       "       [2.5, 3. , 3.5, 4. ],\n",
       "       [4.5, 5. , 5.5, 6. ],\n",
       "       [6.5, 7. , 7.5, 8. ]])"
      ]
     },
     "execution_count": 17,
     "metadata": {},
     "output_type": "execute_result"
    }
   ],
   "source": [
    "A * (1/2)"
   ]
  },
  {
   "cell_type": "markdown",
   "metadata": {
    "id": "egHy1WsBfUc0"
   },
   "source": [
    "-------------------------------------------------------"
   ]
  },
  {
   "cell_type": "markdown",
   "metadata": {
    "id": "7Tv1qDFOo0ID"
   },
   "source": [
    "## **Job 4**\n",
    "Considérons les matrices $A$ et $A_{bis}$ définies comme ci-dessous :\n",
    "\n",
    "$$ A = \\begin{pmatrix}\n",
    "1 & 5 & 3  \\\\\n",
    "2 & 4 & 7\n",
    "\\end{pmatrix}, \\space A_{bis} = \\begin{pmatrix}\n",
    "1 & 2  \\\\\n",
    "5 & 4 \\\\\n",
    "3 & 7\n",
    "\\end{pmatrix}$$\n",
    "\n",
    "1. Quelles sont les dimensions de $A$ et de $A_{bis}$ ?\n",
    "2. Qu'est ce que vous voyez en observant ces deux matrices ?\n",
    "3. Quelle opération mathématique permet d'obtenir $A_{bis}$ comme résultat à partir de $A$ ?\n",
    "4. Quelle fonction Python permet de faire ce type d'opération ?\n",
    "5. A l'aide de l'opération précédente, transformez les vecteurs et les matrices ci-dessous. Affichez leurs dimensions avant et après l'opération :\n",
    "  * $\\begin{pmatrix}\n",
    "7  \\\\\n",
    "4 \\\\\n",
    "1\n",
    "\\end{pmatrix}$\n",
    "\n",
    "  * $\\begin{pmatrix}\n",
    "9 & 0 & 3 \\\\\n",
    "\\end{pmatrix}$\n",
    "\n",
    "  * $\\begin{pmatrix}\n",
    "2 & 4 & 1 \\\\\n",
    "0 & 5 & 2 \\\\\n",
    "3 & 1 & 6\n",
    "\\end{pmatrix}$\n",
    "\n",
    "  * $\\begin{pmatrix}\n",
    "  7 & 2 & 5 & 1 \\\\\n",
    "3 & 6 & 0 & 2 \\\\\n",
    "\\end{pmatrix}$\n"
   ]
  },
  {
   "cell_type": "code",
   "execution_count": 18,
   "metadata": {
    "id": "o1Hj2crXfRe9"
   },
   "outputs": [],
   "source": [
    "A = np.array ([[1, 5, 3], [2, 4, 7]])\n",
    "Abis = np.array ([[1,2], [5, 4], [3, 7]])"
   ]
  },
  {
   "cell_type": "markdown",
   "metadata": {},
   "source": [
    "1)"
   ]
  },
  {
   "cell_type": "code",
   "execution_count": 19,
   "metadata": {},
   "outputs": [
    {
     "data": {
      "text/plain": [
       "(2, 3)"
      ]
     },
     "execution_count": 19,
     "metadata": {},
     "output_type": "execute_result"
    }
   ],
   "source": [
    "A.shape"
   ]
  },
  {
   "cell_type": "code",
   "execution_count": 20,
   "metadata": {},
   "outputs": [
    {
     "data": {
      "text/plain": [
       "(3, 2)"
      ]
     },
     "execution_count": 20,
     "metadata": {},
     "output_type": "execute_result"
    }
   ],
   "source": [
    "Abis.shape"
   ]
  },
  {
   "cell_type": "markdown",
   "metadata": {},
   "source": [
    "2)"
   ]
  },
  {
   "cell_type": "code",
   "execution_count": 21,
   "metadata": {},
   "outputs": [
    {
     "data": {
      "text/plain": [
       "'Abis est la transposer de A'"
      ]
     },
     "execution_count": 21,
     "metadata": {},
     "output_type": "execute_result"
    }
   ],
   "source": [
    "\"Abis est la transposer de A\""
   ]
  },
  {
   "cell_type": "markdown",
   "metadata": {},
   "source": [
    "3)"
   ]
  },
  {
   "cell_type": "code",
   "execution_count": 22,
   "metadata": {},
   "outputs": [
    {
     "data": {
      "text/plain": [
       "'inverser les lignes et les colonnes'"
      ]
     },
     "execution_count": 22,
     "metadata": {},
     "output_type": "execute_result"
    }
   ],
   "source": [
    "\"inverser les lignes et les colonnes\""
   ]
  },
  {
   "cell_type": "markdown",
   "metadata": {},
   "source": [
    "4)"
   ]
  },
  {
   "cell_type": "code",
   "execution_count": 23,
   "metadata": {},
   "outputs": [
    {
     "data": {
      "text/plain": [
       "array([[1, 2],\n",
       "       [5, 4],\n",
       "       [3, 7]])"
      ]
     },
     "execution_count": 23,
     "metadata": {},
     "output_type": "execute_result"
    }
   ],
   "source": [
    "A.T"
   ]
  },
  {
   "cell_type": "markdown",
   "metadata": {},
   "source": [
    "5)"
   ]
  },
  {
   "cell_type": "code",
   "execution_count": 24,
   "metadata": {},
   "outputs": [
    {
     "data": {
      "text/plain": [
       "(3, 1)"
      ]
     },
     "execution_count": 24,
     "metadata": {},
     "output_type": "execute_result"
    }
   ],
   "source": [
    "B = np.array ([[7], [4], [1]])\n",
    "B.shape"
   ]
  },
  {
   "cell_type": "code",
   "execution_count": 25,
   "metadata": {},
   "outputs": [
    {
     "data": {
      "text/plain": [
       "(1, 3)"
      ]
     },
     "execution_count": 25,
     "metadata": {},
     "output_type": "execute_result"
    }
   ],
   "source": [
    "B.T.shape"
   ]
  },
  {
   "cell_type": "code",
   "execution_count": 26,
   "metadata": {},
   "outputs": [
    {
     "data": {
      "text/plain": [
       "(3,)"
      ]
     },
     "execution_count": 26,
     "metadata": {},
     "output_type": "execute_result"
    }
   ],
   "source": [
    "C = np.array ([9, 0, 3])\n",
    "C.shape"
   ]
  },
  {
   "cell_type": "code",
   "execution_count": 27,
   "metadata": {},
   "outputs": [
    {
     "data": {
      "text/plain": [
       "array([[9],\n",
       "       [0],\n",
       "       [3]])"
      ]
     },
     "execution_count": 27,
     "metadata": {},
     "output_type": "execute_result"
    }
   ],
   "source": [
    "C = C.reshape (-1, 1)\n",
    "C"
   ]
  },
  {
   "cell_type": "code",
   "execution_count": 28,
   "metadata": {},
   "outputs": [
    {
     "data": {
      "text/plain": [
       "(3, 1)"
      ]
     },
     "execution_count": 28,
     "metadata": {},
     "output_type": "execute_result"
    }
   ],
   "source": [
    "C.shape"
   ]
  },
  {
   "cell_type": "code",
   "execution_count": 29,
   "metadata": {},
   "outputs": [
    {
     "data": {
      "text/plain": [
       "(3, 3)"
      ]
     },
     "execution_count": 29,
     "metadata": {},
     "output_type": "execute_result"
    }
   ],
   "source": [
    "D = np.array ([[2, 4, 1], [0, 5, 2], [3, 1, 6]])\n",
    "D.shape"
   ]
  },
  {
   "cell_type": "code",
   "execution_count": 30,
   "metadata": {},
   "outputs": [
    {
     "data": {
      "text/plain": [
       "(3, 3)"
      ]
     },
     "execution_count": 30,
     "metadata": {},
     "output_type": "execute_result"
    }
   ],
   "source": [
    "D.T.shape"
   ]
  },
  {
   "cell_type": "code",
   "execution_count": 31,
   "metadata": {},
   "outputs": [
    {
     "data": {
      "text/plain": [
       "(2, 4)"
      ]
     },
     "execution_count": 31,
     "metadata": {},
     "output_type": "execute_result"
    }
   ],
   "source": [
    "E = np.array ([[7, 2, 5, 1], [3, 6, 0, 2]])\n",
    "E.shape"
   ]
  },
  {
   "cell_type": "code",
   "execution_count": 32,
   "metadata": {},
   "outputs": [
    {
     "data": {
      "text/plain": [
       "(4, 2)"
      ]
     },
     "execution_count": 32,
     "metadata": {},
     "output_type": "execute_result"
    }
   ],
   "source": [
    "E.T.shape"
   ]
  },
  {
   "cell_type": "markdown",
   "metadata": {
    "id": "DNws-5WUo2Ab"
   },
   "source": [
    "------------------------------------------"
   ]
  },
  {
   "cell_type": "markdown",
   "metadata": {
    "id": "Il-yWHePVIqI"
   },
   "source": [
    "## **Job 5**\n",
    "On considère la matrice $A$ de dimension 3 $\\times 4$ définie comme :\n",
    "\n",
    "$$ A = \\begin{pmatrix}\n",
    "4 & 6 & -2 & 3 \\\\\n",
    "2 & -1 & 0 & 1 \\\\\n",
    "-7 & 0 & 1 & 12\n",
    "\\end{pmatrix} $$\n",
    "\n",
    "1. Créez la matrice $A$.\n",
    "\n",
    "2. Modifiez la matrice $A$ pour que ses deux premières lignes soient multipliées par 2 et que sa dernière colonne soit divisée par 3.\n",
    "\n",
    "3. Créez une nouvelle matrice $B$ définie comme :\n",
    "\n",
    "$$ B = \\begin{pmatrix}\n",
    "4 & 5 & 6 \\\\\n",
    "5 & 10 & 15 \\\\\n",
    "1 & 1 & 1\n",
    "\\end{pmatrix}  $$\n",
    "\n",
    "4. Réalisez le produit matriciel de $B$ et $A$, notez le $D$."
   ]
  },
  {
   "cell_type": "markdown",
   "metadata": {},
   "source": [
    "1)"
   ]
  },
  {
   "cell_type": "code",
   "execution_count": 33,
   "metadata": {
    "id": "u7qHn_eXj4QD"
   },
   "outputs": [
    {
     "data": {
      "text/plain": [
       "array([[ 4,  6, -2,  3],\n",
       "       [ 2, -1,  0,  1],\n",
       "       [-7,  0,  1, 12]])"
      ]
     },
     "execution_count": 33,
     "metadata": {},
     "output_type": "execute_result"
    }
   ],
   "source": [
    "A = np.array ([[4, 6, -2, 3], [2, -1, 0, 1], [-7, 0, 1, 12]])\n",
    "A"
   ]
  },
  {
   "cell_type": "markdown",
   "metadata": {},
   "source": [
    "2)"
   ]
  },
  {
   "cell_type": "code",
   "execution_count": 34,
   "metadata": {},
   "outputs": [
    {
     "data": {
      "text/plain": [
       "array([[ 8, 12, -4,  6],\n",
       "       [ 4, -2,  0,  2],\n",
       "       [-7,  0,  1, 12]])"
      ]
     },
     "execution_count": 34,
     "metadata": {},
     "output_type": "execute_result"
    }
   ],
   "source": [
    "A [:2, :] *= 2\n",
    "A"
   ]
  },
  {
   "cell_type": "code",
   "execution_count": 35,
   "metadata": {},
   "outputs": [
    {
     "data": {
      "text/plain": [
       "array([[ 8, 12, -4,  2],\n",
       "       [ 4, -2,  0,  0],\n",
       "       [-7,  0,  1,  4]])"
      ]
     },
     "execution_count": 35,
     "metadata": {},
     "output_type": "execute_result"
    }
   ],
   "source": [
    "A[:, -1] = A[:, -1].astype(float) / 3\n",
    "A"
   ]
  },
  {
   "cell_type": "markdown",
   "metadata": {},
   "source": [
    "3)"
   ]
  },
  {
   "cell_type": "code",
   "execution_count": 36,
   "metadata": {},
   "outputs": [
    {
     "data": {
      "text/plain": [
       "array([[ 4,  5,  6],\n",
       "       [ 5, 10, 15],\n",
       "       [ 1,  1,  1]])"
      ]
     },
     "execution_count": 36,
     "metadata": {},
     "output_type": "execute_result"
    }
   ],
   "source": [
    "B = np.array ([[4, 5, 6], [5, 10, 15], [1, 1, 1]])\n",
    "B"
   ]
  },
  {
   "cell_type": "markdown",
   "metadata": {},
   "source": [
    "4)"
   ]
  },
  {
   "cell_type": "code",
   "execution_count": 37,
   "metadata": {},
   "outputs": [
    {
     "data": {
      "text/plain": [
       "array([[ 10,  38, -10,  32],\n",
       "       [-25,  40,  -5,  70],\n",
       "       [  5,  10,  -3,   6]])"
      ]
     },
     "execution_count": 37,
     "metadata": {},
     "output_type": "execute_result"
    }
   ],
   "source": [
    "D = np.matmul (B, A)\n",
    "D"
   ]
  },
  {
   "cell_type": "markdown",
   "metadata": {
    "id": "pUe2Q9LJg8-e"
   },
   "source": [
    "---------------------------------------------------------"
   ]
  },
  {
   "cell_type": "markdown",
   "metadata": {
    "id": "fy9H6rsutmov"
   },
   "source": [
    "## **Job 6**\n",
    "\n",
    "Soit la matrice $I_3$ définie comme suit :\n",
    "$$ \\begin{pmatrix}\n",
    "1 & 0 & 0 \\\\\n",
    "0 & 1 & 0 \\\\\n",
    "0 & 0 & 1\n",
    "\\end{pmatrix}$$\n",
    "\n",
    "1. Faites une multiplication matricielle de $I_3$ et d'une autre matrice de même taille de votre choix. Qu'est ce que vous observez ?\n",
    "2. Renseignez-vous sur la matrice $I_3$. Quelles sont ses caractéristiques ?"
   ]
  },
  {
   "cell_type": "code",
   "execution_count": 38,
   "metadata": {
    "id": "SIVfVrphw6mD"
   },
   "outputs": [
    {
     "data": {
      "text/plain": [
       "array([[1., 0., 0.],\n",
       "       [0., 1., 0.],\n",
       "       [0., 0., 1.]])"
      ]
     },
     "execution_count": 38,
     "metadata": {},
     "output_type": "execute_result"
    }
   ],
   "source": [
    "I3 = np.eye (3)\n",
    "I3"
   ]
  },
  {
   "cell_type": "code",
   "execution_count": 39,
   "metadata": {},
   "outputs": [
    {
     "data": {
      "text/plain": [
       "array([[ 4,  5,  6],\n",
       "       [ 5, 10, 15],\n",
       "       [ 1,  1,  1]])"
      ]
     },
     "execution_count": 39,
     "metadata": {},
     "output_type": "execute_result"
    }
   ],
   "source": [
    "B"
   ]
  },
  {
   "cell_type": "markdown",
   "metadata": {},
   "source": [
    "1)"
   ]
  },
  {
   "cell_type": "code",
   "execution_count": 40,
   "metadata": {},
   "outputs": [
    {
     "data": {
      "text/plain": [
       "array([[ 4.,  5.,  6.],\n",
       "       [ 5., 10., 15.],\n",
       "       [ 1.,  1.,  1.]])"
      ]
     },
     "execution_count": 40,
     "metadata": {},
     "output_type": "execute_result"
    }
   ],
   "source": [
    "#la matrice multiplier ne change pas\n",
    "np.matmul (I3, B)"
   ]
  },
  {
   "cell_type": "markdown",
   "metadata": {},
   "source": [
    "2)"
   ]
  },
  {
   "cell_type": "code",
   "execution_count": 41,
   "metadata": {},
   "outputs": [
    {
     "data": {
      "text/plain": [
       "'la matrice I3 est la matrice identité, si on la multiplie avec une autre matrice, cela ne changera pas la matrice initiale.'"
      ]
     },
     "execution_count": 41,
     "metadata": {},
     "output_type": "execute_result"
    }
   ],
   "source": [
    "\"la matrice I3 est la matrice identité, si on la multiplie avec une autre matrice, cela ne changera pas la matrice initiale.\""
   ]
  },
  {
   "cell_type": "markdown",
   "metadata": {
    "id": "D1RXE9cXx3LD"
   },
   "source": [
    "--------------------------------------------------------------"
   ]
  },
  {
   "cell_type": "markdown",
   "metadata": {
    "id": "2AB67_wztCQT"
   },
   "source": [
    "## **Job 7**\n",
    "\n",
    "Pour un nombre réel $x$, son inverse, noté $\\frac{1}{x}$ ou $x^{-1}$, est un autre nombre tel que $x \\times \\frac{1}{x} = 1$\n",
    "\n",
    " En d'autres termes, lorsque vous multipliez un nombre par son inverse, le résultat est toujours $1$.\n",
    "\n",
    " Démontrez le dans la cellule ci-dessous pour des nombres de votre choix."
   ]
  },
  {
   "cell_type": "code",
   "execution_count": 42,
   "metadata": {
    "id": "AOV7zzmzx4_o"
   },
   "outputs": [
    {
     "data": {
      "text/plain": [
       "1.0"
      ]
     },
     "execution_count": 42,
     "metadata": {},
     "output_type": "execute_result"
    }
   ],
   "source": [
    "x = 5\n",
    "x_inv = np.power(float (x), -1)\n",
    "x * x_inv"
   ]
  },
  {
   "cell_type": "markdown",
   "metadata": {
    "id": "u-S8sAZPx5Lz"
   },
   "source": [
    "-----------------------------------------------------------------"
   ]
  },
  {
   "cell_type": "markdown",
   "metadata": {
    "id": "RgYKdF1J6fXn"
   },
   "source": [
    "## **Job 8**\n",
    "\n",
    "L'inverse d'une matrice est une autre matrice qui, lorsqu'elle est multipliée par la matrice d'origine, donne une matrice identité. En d'autres termes, si $A$ est une matrice et $A^{-1}$ est son inverse, alors $A \\times A^{-1} = I$.\n",
    "\n",
    "*(C'est comme si l'inverse de la matrice \"compensait\" les effets de la matrice d'origine, de la même manière que l'inverse d'un nombre \"compense\" sa multiplication initiale pour obtenir $1$.)*\n",
    "\n",
    "Soient deux matrices $A$ et $B$ telles que :\n",
    "\n",
    "$$ A = \\begin{pmatrix}\n",
    "1 & 2 \\\\\n",
    "3 & 4\n",
    "\\end{pmatrix}, \\space B = \\begin{pmatrix}\n",
    "-2 & 1 \\\\\n",
    "1.5 & -0.5\n",
    "\\end{pmatrix}$$\n",
    "\n",
    "1. Calculez $A \\times B$ puis $B \\times A$.\n",
    "2. Que pouvez-vous conclure sur les deux matrices ?"
   ]
  },
  {
   "cell_type": "markdown",
   "metadata": {},
   "source": [
    "1)"
   ]
  },
  {
   "cell_type": "code",
   "execution_count": 43,
   "metadata": {
    "id": "DYkYvgfr6iBH"
   },
   "outputs": [
    {
     "data": {
      "text/plain": [
       "array([[1, 2],\n",
       "       [3, 4]])"
      ]
     },
     "execution_count": 43,
     "metadata": {},
     "output_type": "execute_result"
    }
   ],
   "source": [
    "A = np.array ([[1, 2], [3, 4 ]])\n",
    "A"
   ]
  },
  {
   "cell_type": "code",
   "execution_count": 44,
   "metadata": {},
   "outputs": [
    {
     "data": {
      "text/plain": [
       "array([[-2. ,  1. ],\n",
       "       [ 1.5, -0.5]])"
      ]
     },
     "execution_count": 44,
     "metadata": {},
     "output_type": "execute_result"
    }
   ],
   "source": [
    "B = np.array ([[-2, 1], [1.5, -0.5]])\n",
    "B"
   ]
  },
  {
   "cell_type": "code",
   "execution_count": 45,
   "metadata": {},
   "outputs": [
    {
     "data": {
      "text/plain": [
       "array([[1., 0.],\n",
       "       [0., 1.]])"
      ]
     },
     "execution_count": 45,
     "metadata": {},
     "output_type": "execute_result"
    }
   ],
   "source": [
    "np.matmul (A, B)"
   ]
  },
  {
   "cell_type": "code",
   "execution_count": 46,
   "metadata": {},
   "outputs": [
    {
     "data": {
      "text/plain": [
       "array([[1., 0.],\n",
       "       [0., 1.]])"
      ]
     },
     "execution_count": 46,
     "metadata": {},
     "output_type": "execute_result"
    }
   ],
   "source": [
    "np.matmul (B, A)"
   ]
  },
  {
   "cell_type": "markdown",
   "metadata": {},
   "source": [
    "2)"
   ]
  },
  {
   "cell_type": "code",
   "execution_count": 47,
   "metadata": {},
   "outputs": [
    {
     "data": {
      "text/plain": [
       "\"B est l'inverse de A\""
      ]
     },
     "execution_count": 47,
     "metadata": {},
     "output_type": "execute_result"
    }
   ],
   "source": [
    "\"B est l'inverse de A\""
   ]
  },
  {
   "cell_type": "markdown",
   "metadata": {
    "id": "rLtfdXh76iTd"
   },
   "source": [
    "----------------------------------------------------------------------"
   ]
  },
  {
   "cell_type": "markdown",
   "metadata": {
    "id": "rfRPzGs-3MG2"
   },
   "source": [
    "## **Job 9**\n",
    "\n",
    "On dit qu'une matrice carrée $M$ est inversible (ou possède un inverse $M^{-1}$) si son déterminant $det(M)\\neq 0$.\n",
    "\n",
    "**Par exemple :**\n",
    "\n",
    "$$ M = \\begin{pmatrix}\n",
    "a & b \\\\\n",
    "c & d\n",
    "\\end{pmatrix}, \\space det(M) = (a \\times d) - (c \\times b) \\neq 0$$\n",
    "\n",
    "On définit alors $M^{-1}$ comme suit :\n",
    "\n",
    "$$ M^{-1} = \\frac{1}{det(M)} \\times \\begin{pmatrix}\n",
    "d & -b \\\\\n",
    "-c & a\n",
    "\\end{pmatrix} $$\n",
    "\n",
    "\\\n",
    "\n",
    "1. Vérifiez si les matrices carrées ci-dessous sont inversibles (il existe une fonction de numpy qui le fait très bien...) :\n",
    "\n",
    "  * $ \\begin{pmatrix}\n",
    "5 & 6 \\\\\n",
    "7 & 8\n",
    "\\end{pmatrix}$\n",
    "\n",
    "  * $ \\begin{pmatrix}\n",
    "3 & 2 \\\\\n",
    "4 & 1\n",
    "\\end{pmatrix}$\n",
    "\n",
    "  * $ \\begin{pmatrix}\n",
    "1 & 5 \\\\\n",
    "7 & 8 \\\\\n",
    "0 & 1\n",
    "\\end{pmatrix}$\n",
    "\n",
    "  * $ \\begin{pmatrix}\n",
    "1 & 2 & 3 \\\\\n",
    "0 & -1 & 4 \\\\\n",
    "2 & 1 & 5\n",
    "\\end{pmatrix}$\n",
    "\n",
    "\n",
    "2. Calculez l'inverse de ces matrices à l'aide de la formule donnée précédemment."
   ]
  },
  {
   "cell_type": "code",
   "execution_count": 48,
   "metadata": {
    "id": "EqS8e-z13Lf9"
   },
   "outputs": [
    {
     "data": {
      "text/plain": [
       "array([[5, 6],\n",
       "       [7, 8]])"
      ]
     },
     "execution_count": 48,
     "metadata": {},
     "output_type": "execute_result"
    }
   ],
   "source": [
    "A = np.array ([[5, 6], [7, 8]])\n",
    "A"
   ]
  },
  {
   "cell_type": "code",
   "execution_count": 49,
   "metadata": {},
   "outputs": [
    {
     "data": {
      "text/plain": [
       "-2.000000000000005"
      ]
     },
     "execution_count": 49,
     "metadata": {},
     "output_type": "execute_result"
    }
   ],
   "source": [
    "np.linalg.det(A)"
   ]
  },
  {
   "cell_type": "code",
   "execution_count": null,
   "metadata": {},
   "outputs": [
    {
     "name": "stdout",
     "output_type": "stream",
     "text": [
      "la matrice est inversible : \n",
      " [[-4.   3. ]\n",
      " [ 3.5 -2.5]]\n"
     ]
    }
   ],
   "source": [
    "np.linalg.inv (A)"
   ]
  },
  {
   "cell_type": "code",
   "execution_count": 51,
   "metadata": {},
   "outputs": [
    {
     "data": {
      "text/plain": [
       "array([[3, 2],\n",
       "       [4, 1]])"
      ]
     },
     "execution_count": 51,
     "metadata": {},
     "output_type": "execute_result"
    }
   ],
   "source": [
    "B = np.array ([[3, 2], [4, 1]])\n",
    "B"
   ]
  },
  {
   "cell_type": "code",
   "execution_count": 52,
   "metadata": {},
   "outputs": [
    {
     "data": {
      "text/plain": [
       "-4.999999999999999"
      ]
     },
     "execution_count": 52,
     "metadata": {},
     "output_type": "execute_result"
    }
   ],
   "source": [
    "np.linalg.det(B)"
   ]
  },
  {
   "cell_type": "code",
   "execution_count": null,
   "metadata": {},
   "outputs": [
    {
     "name": "stdout",
     "output_type": "stream",
     "text": [
      "la matrice est inversible : \n",
      " [[-0.2  0.4]\n",
      " [ 0.8 -0.6]]\n"
     ]
    }
   ],
   "source": [
    "np.linalg.inv (B)"
   ]
  },
  {
   "cell_type": "code",
   "execution_count": 54,
   "metadata": {},
   "outputs": [
    {
     "data": {
      "text/plain": [
       "array([[1, 5],\n",
       "       [7, 8],\n",
       "       [0, 1]])"
      ]
     },
     "execution_count": 54,
     "metadata": {},
     "output_type": "execute_result"
    }
   ],
   "source": [
    "C = np.array ([[1, 5], [7, 8], [0, 1]])\n",
    "C"
   ]
  },
  {
   "cell_type": "code",
   "execution_count": null,
   "metadata": {},
   "outputs": [
    {
     "name": "stdout",
     "output_type": "stream",
     "text": [
      "la matrice n'est aps inversible\n"
     ]
    }
   ],
   "source": [
    "if C.shape [0] == C.shape [1] :\n",
    "    det = np.linalg.det (C)\n",
    "    print (f\"la matrice est inversible {det}\")\n",
    "else :\n",
    "    print (\"la matrice n'est pas inversible\")"
   ]
  },
  {
   "cell_type": "code",
   "execution_count": 56,
   "metadata": {},
   "outputs": [
    {
     "data": {
      "text/plain": [
       "array([[ 1,  2,  3],\n",
       "       [ 0, -1,  4],\n",
       "       [ 2,  1,  5]])"
      ]
     },
     "execution_count": 56,
     "metadata": {},
     "output_type": "execute_result"
    }
   ],
   "source": [
    "D = np.array ([[1, 2, 3],[0, -1, 4], [2, 1, 5]])\n",
    "D"
   ]
  },
  {
   "cell_type": "code",
   "execution_count": 57,
   "metadata": {},
   "outputs": [
    {
     "name": "stdout",
     "output_type": "stream",
     "text": [
      "12.999999999999995\n"
     ]
    }
   ],
   "source": [
    "if D.shape [0] == D.shape [1] :\n",
    "    det = np.linalg.det (D)\n",
    "    print (det)"
   ]
  },
  {
   "cell_type": "code",
   "execution_count": 58,
   "metadata": {},
   "outputs": [
    {
     "data": {
      "text/plain": [
       "array([[-0.69230769, -0.53846154,  0.84615385],\n",
       "       [ 0.61538462, -0.07692308, -0.30769231],\n",
       "       [ 0.15384615,  0.23076923, -0.07692308]])"
      ]
     },
     "execution_count": 58,
     "metadata": {},
     "output_type": "execute_result"
    }
   ],
   "source": [
    "np.linalg.inv (D)"
   ]
  },
  {
   "cell_type": "markdown",
   "metadata": {
    "id": "Gx-D1gOvx9q7"
   },
   "source": [
    "-----------------------------------------------------------------"
   ]
  },
  {
   "cell_type": "markdown",
   "metadata": {
    "id": "CQtesnAQhBWC"
   },
   "source": [
    "# Probabilités et Statistique"
   ]
  },
  {
   "cell_type": "markdown",
   "metadata": {
    "id": "ln_exBJbqReD"
   },
   "source": [
    "## **Job 10**\n",
    "**La probabilité d'un événement est un nombre réel compris entre 0 et 1. Plus ce nombre est grand, plus le risque, ou la chance, que l'événement se produise est grand.**\n",
    "\n",
    "Lancez une pièce de monnaie 100 fois et enregistrez le résultat, pile ou face, dans un `array` $T$.\n",
    "1. Quelle est donc la probabilité d'obtenir le résultat Pile ou le résultat Face ?\n",
    "3. Visualisez la proportion des résultats à l'aide d'un piechart de `Matplotlib` (ou d'une autre librairie de votre choix).\n"
   ]
  },
  {
   "cell_type": "code",
   "execution_count": 59,
   "metadata": {
    "id": "iOPwW6xwrI-v"
   },
   "outputs": [
    {
     "data": {
      "text/plain": [
       "array(['pile', 'face', 'pile', 'pile', 'pile', 'face', 'pile', 'pile',\n",
       "       'pile', 'face', 'pile', 'face', 'pile', 'face', 'pile', 'pile',\n",
       "       'pile', 'pile', 'pile', 'pile', 'face', 'face', 'face', 'face',\n",
       "       'face', 'face', 'pile', 'pile', 'pile', 'pile', 'face', 'face',\n",
       "       'face', 'face', 'pile', 'face', 'pile', 'face', 'pile', 'face',\n",
       "       'face', 'face', 'face', 'face', 'face', 'face', 'pile', 'pile',\n",
       "       'face', 'face', 'face', 'face', 'pile', 'face', 'pile', 'face',\n",
       "       'face', 'face', 'face', 'face', 'pile', 'face', 'pile', 'pile',\n",
       "       'pile', 'face', 'pile', 'face', 'face', 'pile', 'face', 'pile',\n",
       "       'pile', 'pile', 'pile', 'face', 'face', 'face', 'face', 'pile',\n",
       "       'face', 'pile', 'pile', 'pile', 'face', 'pile', 'pile', 'pile',\n",
       "       'pile', 'pile', 'pile', 'pile', 'pile', 'pile', 'pile', 'face',\n",
       "       'face', 'pile', 'pile', 'face'], dtype='<U4')"
      ]
     },
     "execution_count": 59,
     "metadata": {},
     "output_type": "execute_result"
    }
   ],
   "source": [
    "T = np.random.choice ([\"pile\", \"face\"], (100,))\n",
    "T"
   ]
  },
  {
   "cell_type": "markdown",
   "metadata": {},
   "source": [
    "1)"
   ]
  },
  {
   "cell_type": "code",
   "execution_count": 60,
   "metadata": {},
   "outputs": [
    {
     "data": {
      "text/plain": [
       "'52%'"
      ]
     },
     "execution_count": 60,
     "metadata": {},
     "output_type": "execute_result"
    }
   ],
   "source": [
    "str (np.sum (T == \"pile\")) + \"%\""
   ]
  },
  {
   "cell_type": "markdown",
   "metadata": {},
   "source": [
    "2)"
   ]
  },
  {
   "cell_type": "code",
   "execution_count": 61,
   "metadata": {},
   "outputs": [
    {
     "data": {
      "image/png": "[encoded data removed]",
      "text/plain": [
       "<Figure size 640x480 with 1 Axes>"
      ]
     },
     "metadata": {},
     "output_type": "display_data"
    }
   ],
   "source": [
    "values, counts = np.unique(T, return_counts=True)\n",
    "\n",
    "plt.pie(counts, labels=values, autopct='%1.1f%%')\n",
    "\n",
    "plt.show ()"
   ]
  },
  {
   "cell_type": "markdown",
   "metadata": {
    "id": "MxiFruoxmYug"
   },
   "source": [
    "## **Job 11**\n",
    "\n",
    "Considérez un dé $D_6$ dont les valeurs possibles sont : $\\{1, 2, 3, 4, 5, 6\\}$.\n",
    "\n",
    "Ce dé est non truqué, ce qui signifie que toutes les valeurs ont des probabilités égales de se produire.  \n",
    "\n",
    "Si je jette le dé $D_6$, la probabilité que le résultat soit $3$ est de $\\frac{1}{6}$.\n",
    "\n",
    "1. Quelle est la probabilité d'obtenir $7$ au jet du dé $D_6$ ?\n",
    "2. Quelle est la probabilité d'obtenir un résultat pair ?\n",
    "3. Quelle est la probabilité d'obtenir un résultat impair ?\n",
    "4. Quelle est la probabilité d'obtenir un résultat inférieur ou égal à $4$ ?\n",
    "5. Quelle est la probabilité d'obtenir un résultat inférieur ou égal à $6$ ?\n",
    "6. Quelle est la probabilité de ne pas obtenir $1$ ?"
   ]
  },
  {
   "cell_type": "markdown",
   "metadata": {},
   "source": [
    "1)"
   ]
  },
  {
   "cell_type": "code",
   "execution_count": null,
   "metadata": {
    "id": "Nbpx1FibWrBs"
   },
   "outputs": [],
   "source": [
    "\"0\""
   ]
  },
  {
   "cell_type": "markdown",
   "metadata": {},
   "source": [
    "2)"
   ]
  },
  {
   "cell_type": "code",
   "execution_count": 105,
   "metadata": {},
   "outputs": [
    {
     "data": {
      "text/plain": [
       "'0.5'"
      ]
     },
     "execution_count": 105,
     "metadata": {},
     "output_type": "execute_result"
    }
   ],
   "source": [
    "\"0.5\""
   ]
  },
  {
   "cell_type": "markdown",
   "metadata": {},
   "source": [
    "3)"
   ]
  },
  {
   "cell_type": "code",
   "execution_count": 106,
   "metadata": {},
   "outputs": [
    {
     "data": {
      "text/plain": [
       "'0.5'"
      ]
     },
     "execution_count": 106,
     "metadata": {},
     "output_type": "execute_result"
    }
   ],
   "source": [
    "\"0.5\""
   ]
  },
  {
   "cell_type": "markdown",
   "metadata": {},
   "source": [
    "4)"
   ]
  },
  {
   "cell_type": "code",
   "execution_count": 107,
   "metadata": {},
   "outputs": [
    {
     "data": {
      "text/plain": [
       "'4/6'"
      ]
     },
     "execution_count": 107,
     "metadata": {},
     "output_type": "execute_result"
    }
   ],
   "source": [
    "\"4/6\""
   ]
  },
  {
   "cell_type": "markdown",
   "metadata": {},
   "source": [
    "5)"
   ]
  },
  {
   "cell_type": "code",
   "execution_count": 108,
   "metadata": {},
   "outputs": [
    {
     "data": {
      "text/plain": [
       "'1'"
      ]
     },
     "execution_count": 108,
     "metadata": {},
     "output_type": "execute_result"
    }
   ],
   "source": [
    "\"1\""
   ]
  },
  {
   "cell_type": "markdown",
   "metadata": {},
   "source": [
    "6)"
   ]
  },
  {
   "cell_type": "code",
   "execution_count": 109,
   "metadata": {},
   "outputs": [
    {
     "data": {
      "text/plain": [
       "'5/6'"
      ]
     },
     "execution_count": 109,
     "metadata": {},
     "output_type": "execute_result"
    }
   ],
   "source": [
    "\"5/6\""
   ]
  },
  {
   "cell_type": "markdown",
   "metadata": {
    "id": "WSdMr0IBWthA"
   },
   "source": [
    "-------------------------------------------------------------"
   ]
  },
  {
   "cell_type": "markdown",
   "metadata": {
    "id": "uttOswY_g-gC"
   },
   "source": [
    "## **Job 12**\n",
    "A l'aide de `numpy` et de ses différentes fonctions :\n",
    "* Créez un vecteur ligne $R$ de taille $n=450$ composé de nombres naturels entre $0$ et $9$ générés aléatoirement\n",
    "* Calculez la valeur moyenne du tableau\n",
    "* Calculez la valeur médiane\n",
    "* Calculez la variance\n",
    "* Calculez l'écart-type"
   ]
  },
  {
   "cell_type": "markdown",
   "metadata": {},
   "source": [
    "1)"
   ]
  },
  {
   "cell_type": "code",
   "execution_count": 68,
   "metadata": {
    "id": "q4WwtEoHj5ZV"
   },
   "outputs": [
    {
     "data": {
      "text/plain": [
       "array([1, 0, 4, 6, 1, 6, 3, 9, 7, 8, 2, 5, 3, 0, 9, 3, 9, 2, 7, 7, 3, 6,\n",
       "       3, 5, 9, 2, 5, 8, 0, 7, 1, 2, 2, 9, 8, 8, 1, 3, 0, 0, 8, 4, 0, 3,\n",
       "       8, 4, 0, 4, 9, 9, 9, 2, 1, 8, 5, 1, 7, 0, 3, 0, 4, 5, 2, 5, 8, 5,\n",
       "       2, 5, 0, 0, 1, 6, 5, 9, 0, 5, 5, 0, 7, 6, 4, 2, 4, 9, 4, 6, 4, 8,\n",
       "       1, 4, 2, 0, 1, 2, 7, 9, 3, 9, 4, 5, 9, 8, 1, 0, 2, 3, 1, 8, 1, 1,\n",
       "       6, 7, 6, 5, 3, 1, 6, 3, 2, 3, 2, 1, 1, 8, 0, 4, 1, 4, 1, 1, 7, 4,\n",
       "       1, 6, 4, 4, 5, 1, 0, 5, 6, 4, 4, 9, 0, 1, 6, 1, 9, 1, 4, 1, 7, 7,\n",
       "       6, 8, 0, 2, 4, 4, 7, 4, 4, 6, 3, 2, 0, 4, 0, 4, 3, 6, 8, 6, 0, 7,\n",
       "       8, 1, 9, 9, 4, 2, 2, 2, 2, 4, 6, 6, 3, 0, 9, 4, 9, 9, 4, 4, 7, 7,\n",
       "       6, 9, 1, 7, 1, 7, 4, 7, 4, 9, 6, 4, 3, 1, 1, 8, 8, 2, 0, 0, 8, 4,\n",
       "       9, 2, 7, 4, 9, 3, 3, 6, 6, 6, 9, 9, 9, 5, 2, 7, 9, 3, 5, 0, 0, 2,\n",
       "       8, 1, 5, 3, 3, 8, 3, 6, 0, 1, 6, 1, 4, 8, 1, 7, 3, 0, 8, 3, 5, 1,\n",
       "       7, 0, 8, 0, 0, 1, 9, 4, 2, 8, 6, 2, 3, 2, 5, 9, 9, 3, 7, 4, 3, 9,\n",
       "       8, 2, 8, 2, 2, 2, 6, 6, 3, 4, 0, 5, 0, 8, 4, 3, 5, 7, 7, 5, 7, 1,\n",
       "       1, 8, 2, 5, 2, 7, 0, 7, 1, 6, 5, 9, 8, 3, 2, 0, 1, 2, 5, 8, 5, 9,\n",
       "       0, 3, 3, 1, 4, 9, 9, 8, 5, 8, 6, 4, 7, 4, 4, 5, 9, 0, 6, 7, 4, 7,\n",
       "       8, 6, 2, 0, 8, 9, 3, 7, 4, 5, 0, 7, 2, 2, 2, 9, 4, 6, 9, 1, 9, 2,\n",
       "       5, 8, 7, 9, 6, 9, 1, 9, 5, 0, 3, 0, 5, 1, 4, 0, 4, 3, 1, 3, 1, 8,\n",
       "       6, 8, 9, 1, 4, 8, 6, 0, 6, 8, 8, 5, 9, 7, 2, 1, 2, 7, 8, 8, 3, 0,\n",
       "       8, 7, 9, 0, 3, 8, 6, 8, 5, 8, 6, 6, 5, 3, 9, 7, 3, 0, 5, 4, 8, 7,\n",
       "       6, 9, 7, 3, 0, 2, 9, 5, 6, 7])"
      ]
     },
     "execution_count": 68,
     "metadata": {},
     "output_type": "execute_result"
    }
   ],
   "source": [
    "R = np.random.randint (0, 10, (450,))\n",
    "R"
   ]
  },
  {
   "cell_type": "markdown",
   "metadata": {},
   "source": [
    "2)"
   ]
  },
  {
   "cell_type": "code",
   "execution_count": 69,
   "metadata": {},
   "outputs": [
    {
     "data": {
      "text/plain": [
       "4.486666666666666"
      ]
     },
     "execution_count": 69,
     "metadata": {},
     "output_type": "execute_result"
    }
   ],
   "source": [
    "np.mean (R)"
   ]
  },
  {
   "cell_type": "markdown",
   "metadata": {},
   "source": [
    "3)"
   ]
  },
  {
   "cell_type": "code",
   "execution_count": 70,
   "metadata": {},
   "outputs": [
    {
     "data": {
      "text/plain": [
       "4.0"
      ]
     },
     "execution_count": 70,
     "metadata": {},
     "output_type": "execute_result"
    }
   ],
   "source": [
    "np.median (R)"
   ]
  },
  {
   "cell_type": "markdown",
   "metadata": {},
   "source": [
    "4)"
   ]
  },
  {
   "cell_type": "code",
   "execution_count": 71,
   "metadata": {},
   "outputs": [
    {
     "data": {
      "text/plain": [
       "8.632044444444444"
      ]
     },
     "execution_count": 71,
     "metadata": {},
     "output_type": "execute_result"
    }
   ],
   "source": [
    "np.var (R)"
   ]
  },
  {
   "cell_type": "markdown",
   "metadata": {},
   "source": [
    "5)"
   ]
  },
  {
   "cell_type": "code",
   "execution_count": 72,
   "metadata": {},
   "outputs": [
    {
     "data": {
      "text/plain": [
       "2.938034112198911"
      ]
     },
     "execution_count": 72,
     "metadata": {},
     "output_type": "execute_result"
    }
   ],
   "source": [
    "np.std (R)"
   ]
  },
  {
   "cell_type": "markdown",
   "metadata": {
    "id": "Aw0gaIdZazFa"
   },
   "source": [
    "----------------------------------------------"
   ]
  },
  {
   "cell_type": "markdown",
   "metadata": {
    "id": "KqxEDbkKkP4t"
   },
   "source": [
    "## **Job 13**\n",
    "A l'aide de matplotlib (ou d'une autre librairie de votre choix), visualisez la distribution des données du tableau $R$ en générant un histogramme."
   ]
  },
  {
   "cell_type": "code",
   "execution_count": 73,
   "metadata": {
    "id": "8sWEFtOskmmg"
   },
   "outputs": [
    {
     "data": {
      "image/png": "[encoded data removed]",
      "text/plain": [
       "<Figure size 640x480 with 1 Axes>"
      ]
     },
     "metadata": {},
     "output_type": "display_data"
    }
   ],
   "source": [
    "import matplotlib.pyplot as plt\n",
    "\n",
    "plt.hist (R)\n",
    "\n",
    "# Get current axes\n",
    "ax = plt.gca()\n",
    "\n",
    "plt.show ()"
   ]
  },
  {
   "cell_type": "markdown",
   "metadata": {
    "id": "BoIJ71z2a0aY"
   },
   "source": [
    "---------------------------------------------------------"
   ]
  },
  {
   "cell_type": "markdown",
   "metadata": {
    "id": "QXOHm1PqknPj"
   },
   "source": [
    "## **Job 14**\n",
    "A l'aide de matplotlib (ou d'une autre librairie de votre choix), visualisez la distribution et dispersion des données du tableau $R$ à travers leurs **quartiles** en utilisant l'outil statistique, le boxplot."
   ]
  },
  {
   "cell_type": "code",
   "execution_count": 74,
   "metadata": {
    "id": "olFRkPQHkxwV"
   },
   "outputs": [
    {
     "data": {
      "image/png": "[encoded data removed]",
      "text/plain": [
       "<Figure size 640x480 with 1 Axes>"
      ]
     },
     "metadata": {},
     "output_type": "display_data"
    }
   ],
   "source": [
    "plt.boxplot (R)\n",
    "\n",
    "plt.show ()"
   ]
  },
  {
   "cell_type": "markdown",
   "metadata": {
    "id": "tHtFR_Mha177"
   },
   "source": [
    "-----------------------------------------------------"
   ]
  },
  {
   "cell_type": "markdown",
   "metadata": {
    "id": "7FRhuAFaa3Yy"
   },
   "source": [
    "## **Job 15**\n",
    "\n",
    "Considérons des données de résultats d'une analyse chimique de vins cultivés en Italie issus de trois cultivars différents. Ces données ont été récupérées et chargées dans un `DataFrame` via la code ci-dessous.\n",
    "\n",
    "1. Affichez différentes informations de `wine_df` (nombre d'observations, nombre de caractéristiques, type de données, données manquantes, mémoire allouée en RAM).\n",
    "\n",
    "2. A l'aide d'une fonction spécifique de `Pandas`, générez les statistiques descriptives (moyenne, médiane, maximum, ...) du jeu de données. Qu'est ce que vous observez ?\n",
    "\n",
    "3. Visualisez la distribution des différentes variables du jeu de données à l'aide d'un histogramme et d'un boxplot.\n",
    "\n",
    "4. A l'aide d'une fonction spécifique de `Pandas`, calculez la corrélation linéaire de Pearson par paire des variables.\n"
   ]
  },
  {
   "cell_type": "markdown",
   "metadata": {},
   "source": [
    "1)"
   ]
  },
  {
   "cell_type": "code",
   "execution_count": 75,
   "metadata": {
    "colab": {
     "base_uri": "https://localhost:8080/",
     "height": 226
    },
    "id": "tlFNsLZ5a7fr",
    "outputId": "56aa52f5-af6f-4a9f-edee-6b04437a61e1"
   },
   "outputs": [
    {
     "data": {
      "text/html": [
       "<div>\n",
       "<style scoped>\n",
       "    .dataframe tbody tr th:only-of-type {\n",
       "        vertical-align: middle;\n",
       "    }\n",
       "\n",
       "    .dataframe tbody tr th {\n",
       "        vertical-align: top;\n",
       "    }\n",
       "\n",
       "    .dataframe thead th {\n",
       "        text-align: right;\n",
       "    }\n",
       "</style>\n",
       "<table border=\"1\" class=\"dataframe\">\n",
       "  <thead>\n",
       "    <tr style=\"text-align: right;\">\n",
       "      <th></th>\n",
       "      <th>alcohol</th>\n",
       "      <th>malic_acid</th>\n",
       "      <th>ash</th>\n",
       "      <th>alcalinity_of_ash</th>\n",
       "      <th>magnesium</th>\n",
       "      <th>total_phenols</th>\n",
       "      <th>flavanoids</th>\n",
       "      <th>nonflavanoid_phenols</th>\n",
       "      <th>proanthocyanins</th>\n",
       "      <th>color_intensity</th>\n",
       "      <th>hue</th>\n",
       "      <th>od280/od315_of_diluted_wines</th>\n",
       "      <th>proline</th>\n",
       "    </tr>\n",
       "  </thead>\n",
       "  <tbody>\n",
       "    <tr>\n",
       "      <th>0</th>\n",
       "      <td>14.23</td>\n",
       "      <td>1.71</td>\n",
       "      <td>2.43</td>\n",
       "      <td>15.6</td>\n",
       "      <td>127.0</td>\n",
       "      <td>2.80</td>\n",
       "      <td>3.06</td>\n",
       "      <td>0.28</td>\n",
       "      <td>2.29</td>\n",
       "      <td>5.64</td>\n",
       "      <td>1.04</td>\n",
       "      <td>3.92</td>\n",
       "      <td>1065.0</td>\n",
       "    </tr>\n",
       "    <tr>\n",
       "      <th>1</th>\n",
       "      <td>13.20</td>\n",
       "      <td>1.78</td>\n",
       "      <td>2.14</td>\n",
       "      <td>11.2</td>\n",
       "      <td>100.0</td>\n",
       "      <td>2.65</td>\n",
       "      <td>2.76</td>\n",
       "      <td>0.26</td>\n",
       "      <td>1.28</td>\n",
       "      <td>4.38</td>\n",
       "      <td>1.05</td>\n",
       "      <td>3.40</td>\n",
       "      <td>1050.0</td>\n",
       "    </tr>\n",
       "    <tr>\n",
       "      <th>2</th>\n",
       "      <td>13.16</td>\n",
       "      <td>2.36</td>\n",
       "      <td>2.67</td>\n",
       "      <td>18.6</td>\n",
       "      <td>101.0</td>\n",
       "      <td>2.80</td>\n",
       "      <td>3.24</td>\n",
       "      <td>0.30</td>\n",
       "      <td>2.81</td>\n",
       "      <td>5.68</td>\n",
       "      <td>1.03</td>\n",
       "      <td>3.17</td>\n",
       "      <td>1185.0</td>\n",
       "    </tr>\n",
       "    <tr>\n",
       "      <th>3</th>\n",
       "      <td>14.37</td>\n",
       "      <td>1.95</td>\n",
       "      <td>2.50</td>\n",
       "      <td>16.8</td>\n",
       "      <td>113.0</td>\n",
       "      <td>3.85</td>\n",
       "      <td>3.49</td>\n",
       "      <td>0.24</td>\n",
       "      <td>2.18</td>\n",
       "      <td>7.80</td>\n",
       "      <td>0.86</td>\n",
       "      <td>3.45</td>\n",
       "      <td>1480.0</td>\n",
       "    </tr>\n",
       "    <tr>\n",
       "      <th>4</th>\n",
       "      <td>13.24</td>\n",
       "      <td>2.59</td>\n",
       "      <td>2.87</td>\n",
       "      <td>21.0</td>\n",
       "      <td>118.0</td>\n",
       "      <td>2.80</td>\n",
       "      <td>2.69</td>\n",
       "      <td>0.39</td>\n",
       "      <td>1.82</td>\n",
       "      <td>4.32</td>\n",
       "      <td>1.04</td>\n",
       "      <td>2.93</td>\n",
       "      <td>735.0</td>\n",
       "    </tr>\n",
       "  </tbody>\n",
       "</table>\n",
       "</div>"
      ],
      "text/plain": [
       "   alcohol  malic_acid   ash  alcalinity_of_ash  magnesium  total_phenols  \\\n",
       "0    14.23        1.71  2.43               15.6      127.0           2.80   \n",
       "1    13.20        1.78  2.14               11.2      100.0           2.65   \n",
       "2    13.16        2.36  2.67               18.6      101.0           2.80   \n",
       "3    14.37        1.95  2.50               16.8      113.0           3.85   \n",
       "4    13.24        2.59  2.87               21.0      118.0           2.80   \n",
       "\n",
       "   flavanoids  nonflavanoid_phenols  proanthocyanins  color_intensity   hue  \\\n",
       "0        3.06                  0.28             2.29             5.64  1.04   \n",
       "1        2.76                  0.26             1.28             4.38  1.05   \n",
       "2        3.24                  0.30             2.81             5.68  1.03   \n",
       "3        3.49                  0.24             2.18             7.80  0.86   \n",
       "4        2.69                  0.39             1.82             4.32  1.04   \n",
       "\n",
       "   od280/od315_of_diluted_wines  proline  \n",
       "0                          3.92   1065.0  \n",
       "1                          3.40   1050.0  \n",
       "2                          3.17   1185.0  \n",
       "3                          3.45   1480.0  \n",
       "4                          2.93    735.0  "
      ]
     },
     "execution_count": 75,
     "metadata": {},
     "output_type": "execute_result"
    }
   ],
   "source": [
    "wine_data = load_wine()\n",
    "\n",
    "wine_df = pd.DataFrame(data=wine_data.data, columns=wine_data.feature_names)\n",
    "wine_df.head()"
   ]
  },
  {
   "cell_type": "markdown",
   "metadata": {},
   "source": [
    "1)"
   ]
  },
  {
   "cell_type": "code",
   "execution_count": null,
   "metadata": {},
   "outputs": [
    {
     "data": {
      "text/plain": [
       "178"
      ]
     },
     "execution_count": 76,
     "metadata": {},
     "output_type": "execute_result"
    }
   ],
   "source": [
    "wine_df.shape [0]"
   ]
  },
  {
   "cell_type": "code",
   "execution_count": 77,
   "metadata": {},
   "outputs": [
    {
     "data": {
      "text/plain": [
       "13"
      ]
     },
     "execution_count": 77,
     "metadata": {},
     "output_type": "execute_result"
    }
   ],
   "source": [
    "wine_df.shape [1]"
   ]
  },
  {
   "cell_type": "code",
   "execution_count": 78,
   "metadata": {},
   "outputs": [
    {
     "data": {
      "text/plain": [
       "alcohol                         float64\n",
       "malic_acid                      float64\n",
       "ash                             float64\n",
       "alcalinity_of_ash               float64\n",
       "magnesium                       float64\n",
       "total_phenols                   float64\n",
       "flavanoids                      float64\n",
       "nonflavanoid_phenols            float64\n",
       "proanthocyanins                 float64\n",
       "color_intensity                 float64\n",
       "hue                             float64\n",
       "od280/od315_of_diluted_wines    float64\n",
       "proline                         float64\n",
       "dtype: object"
      ]
     },
     "execution_count": 78,
     "metadata": {},
     "output_type": "execute_result"
    }
   ],
   "source": [
    "wine_df.dtypes"
   ]
  },
  {
   "cell_type": "code",
   "execution_count": 79,
   "metadata": {},
   "outputs": [
    {
     "data": {
      "text/html": [
       "<div>\n",
       "<style scoped>\n",
       "    .dataframe tbody tr th:only-of-type {\n",
       "        vertical-align: middle;\n",
       "    }\n",
       "\n",
       "    .dataframe tbody tr th {\n",
       "        vertical-align: top;\n",
       "    }\n",
       "\n",
       "    .dataframe thead th {\n",
       "        text-align: right;\n",
       "    }\n",
       "</style>\n",
       "<table border=\"1\" class=\"dataframe\">\n",
       "  <thead>\n",
       "    <tr style=\"text-align: right;\">\n",
       "      <th></th>\n",
       "      <th>alcohol</th>\n",
       "      <th>malic_acid</th>\n",
       "      <th>ash</th>\n",
       "      <th>alcalinity_of_ash</th>\n",
       "      <th>magnesium</th>\n",
       "      <th>total_phenols</th>\n",
       "      <th>flavanoids</th>\n",
       "      <th>nonflavanoid_phenols</th>\n",
       "      <th>proanthocyanins</th>\n",
       "      <th>color_intensity</th>\n",
       "      <th>hue</th>\n",
       "      <th>od280/od315_of_diluted_wines</th>\n",
       "      <th>proline</th>\n",
       "    </tr>\n",
       "  </thead>\n",
       "  <tbody>\n",
       "    <tr>\n",
       "      <th>0</th>\n",
       "      <td>False</td>\n",
       "      <td>False</td>\n",
       "      <td>False</td>\n",
       "      <td>False</td>\n",
       "      <td>False</td>\n",
       "      <td>False</td>\n",
       "      <td>False</td>\n",
       "      <td>False</td>\n",
       "      <td>False</td>\n",
       "      <td>False</td>\n",
       "      <td>False</td>\n",
       "      <td>False</td>\n",
       "      <td>False</td>\n",
       "    </tr>\n",
       "    <tr>\n",
       "      <th>1</th>\n",
       "      <td>False</td>\n",
       "      <td>False</td>\n",
       "      <td>False</td>\n",
       "      <td>False</td>\n",
       "      <td>False</td>\n",
       "      <td>False</td>\n",
       "      <td>False</td>\n",
       "      <td>False</td>\n",
       "      <td>False</td>\n",
       "      <td>False</td>\n",
       "      <td>False</td>\n",
       "      <td>False</td>\n",
       "      <td>False</td>\n",
       "    </tr>\n",
       "    <tr>\n",
       "      <th>2</th>\n",
       "      <td>False</td>\n",
       "      <td>False</td>\n",
       "      <td>False</td>\n",
       "      <td>False</td>\n",
       "      <td>False</td>\n",
       "      <td>False</td>\n",
       "      <td>False</td>\n",
       "      <td>False</td>\n",
       "      <td>False</td>\n",
       "      <td>False</td>\n",
       "      <td>False</td>\n",
       "      <td>False</td>\n",
       "      <td>False</td>\n",
       "    </tr>\n",
       "    <tr>\n",
       "      <th>3</th>\n",
       "      <td>False</td>\n",
       "      <td>False</td>\n",
       "      <td>False</td>\n",
       "      <td>False</td>\n",
       "      <td>False</td>\n",
       "      <td>False</td>\n",
       "      <td>False</td>\n",
       "      <td>False</td>\n",
       "      <td>False</td>\n",
       "      <td>False</td>\n",
       "      <td>False</td>\n",
       "      <td>False</td>\n",
       "      <td>False</td>\n",
       "    </tr>\n",
       "    <tr>\n",
       "      <th>4</th>\n",
       "      <td>False</td>\n",
       "      <td>False</td>\n",
       "      <td>False</td>\n",
       "      <td>False</td>\n",
       "      <td>False</td>\n",
       "      <td>False</td>\n",
       "      <td>False</td>\n",
       "      <td>False</td>\n",
       "      <td>False</td>\n",
       "      <td>False</td>\n",
       "      <td>False</td>\n",
       "      <td>False</td>\n",
       "      <td>False</td>\n",
       "    </tr>\n",
       "    <tr>\n",
       "      <th>...</th>\n",
       "      <td>...</td>\n",
       "      <td>...</td>\n",
       "      <td>...</td>\n",
       "      <td>...</td>\n",
       "      <td>...</td>\n",
       "      <td>...</td>\n",
       "      <td>...</td>\n",
       "      <td>...</td>\n",
       "      <td>...</td>\n",
       "      <td>...</td>\n",
       "      <td>...</td>\n",
       "      <td>...</td>\n",
       "      <td>...</td>\n",
       "    </tr>\n",
       "    <tr>\n",
       "      <th>173</th>\n",
       "      <td>False</td>\n",
       "      <td>False</td>\n",
       "      <td>False</td>\n",
       "      <td>False</td>\n",
       "      <td>False</td>\n",
       "      <td>False</td>\n",
       "      <td>False</td>\n",
       "      <td>False</td>\n",
       "      <td>False</td>\n",
       "      <td>False</td>\n",
       "      <td>False</td>\n",
       "      <td>False</td>\n",
       "      <td>False</td>\n",
       "    </tr>\n",
       "    <tr>\n",
       "      <th>174</th>\n",
       "      <td>False</td>\n",
       "      <td>False</td>\n",
       "      <td>False</td>\n",
       "      <td>False</td>\n",
       "      <td>False</td>\n",
       "      <td>False</td>\n",
       "      <td>False</td>\n",
       "      <td>False</td>\n",
       "      <td>False</td>\n",
       "      <td>False</td>\n",
       "      <td>False</td>\n",
       "      <td>False</td>\n",
       "      <td>False</td>\n",
       "    </tr>\n",
       "    <tr>\n",
       "      <th>175</th>\n",
       "      <td>False</td>\n",
       "      <td>False</td>\n",
       "      <td>False</td>\n",
       "      <td>False</td>\n",
       "      <td>False</td>\n",
       "      <td>False</td>\n",
       "      <td>False</td>\n",
       "      <td>False</td>\n",
       "      <td>False</td>\n",
       "      <td>False</td>\n",
       "      <td>False</td>\n",
       "      <td>False</td>\n",
       "      <td>False</td>\n",
       "    </tr>\n",
       "    <tr>\n",
       "      <th>176</th>\n",
       "      <td>False</td>\n",
       "      <td>False</td>\n",
       "      <td>False</td>\n",
       "      <td>False</td>\n",
       "      <td>False</td>\n",
       "      <td>False</td>\n",
       "      <td>False</td>\n",
       "      <td>False</td>\n",
       "      <td>False</td>\n",
       "      <td>False</td>\n",
       "      <td>False</td>\n",
       "      <td>False</td>\n",
       "      <td>False</td>\n",
       "    </tr>\n",
       "    <tr>\n",
       "      <th>177</th>\n",
       "      <td>False</td>\n",
       "      <td>False</td>\n",
       "      <td>False</td>\n",
       "      <td>False</td>\n",
       "      <td>False</td>\n",
       "      <td>False</td>\n",
       "      <td>False</td>\n",
       "      <td>False</td>\n",
       "      <td>False</td>\n",
       "      <td>False</td>\n",
       "      <td>False</td>\n",
       "      <td>False</td>\n",
       "      <td>False</td>\n",
       "    </tr>\n",
       "  </tbody>\n",
       "</table>\n",
       "<p>178 rows × 13 columns</p>\n",
       "</div>"
      ],
      "text/plain": [
       "     alcohol  malic_acid    ash  alcalinity_of_ash  magnesium  total_phenols  \\\n",
       "0      False       False  False              False      False          False   \n",
       "1      False       False  False              False      False          False   \n",
       "2      False       False  False              False      False          False   \n",
       "3      False       False  False              False      False          False   \n",
       "4      False       False  False              False      False          False   \n",
       "..       ...         ...    ...                ...        ...            ...   \n",
       "173    False       False  False              False      False          False   \n",
       "174    False       False  False              False      False          False   \n",
       "175    False       False  False              False      False          False   \n",
       "176    False       False  False              False      False          False   \n",
       "177    False       False  False              False      False          False   \n",
       "\n",
       "     flavanoids  nonflavanoid_phenols  proanthocyanins  color_intensity  \\\n",
       "0         False                 False            False            False   \n",
       "1         False                 False            False            False   \n",
       "2         False                 False            False            False   \n",
       "3         False                 False            False            False   \n",
       "4         False                 False            False            False   \n",
       "..          ...                   ...              ...              ...   \n",
       "173       False                 False            False            False   \n",
       "174       False                 False            False            False   \n",
       "175       False                 False            False            False   \n",
       "176       False                 False            False            False   \n",
       "177       False                 False            False            False   \n",
       "\n",
       "       hue  od280/od315_of_diluted_wines  proline  \n",
       "0    False                         False    False  \n",
       "1    False                         False    False  \n",
       "2    False                         False    False  \n",
       "3    False                         False    False  \n",
       "4    False                         False    False  \n",
       "..     ...                           ...      ...  \n",
       "173  False                         False    False  \n",
       "174  False                         False    False  \n",
       "175  False                         False    False  \n",
       "176  False                         False    False  \n",
       "177  False                         False    False  \n",
       "\n",
       "[178 rows x 13 columns]"
      ]
     },
     "execution_count": 79,
     "metadata": {},
     "output_type": "execute_result"
    }
   ],
   "source": [
    "wine_df.isnull ()"
   ]
  },
  {
   "cell_type": "markdown",
   "metadata": {},
   "source": [
    "2)"
   ]
  },
  {
   "cell_type": "code",
   "execution_count": 80,
   "metadata": {},
   "outputs": [
    {
     "data": {
      "text/plain": [
       "Index                            132\n",
       "alcohol                         1424\n",
       "malic_acid                      1424\n",
       "ash                             1424\n",
       "alcalinity_of_ash               1424\n",
       "magnesium                       1424\n",
       "total_phenols                   1424\n",
       "flavanoids                      1424\n",
       "nonflavanoid_phenols            1424\n",
       "proanthocyanins                 1424\n",
       "color_intensity                 1424\n",
       "hue                             1424\n",
       "od280/od315_of_diluted_wines    1424\n",
       "proline                         1424\n",
       "dtype: int64"
      ]
     },
     "execution_count": 80,
     "metadata": {},
     "output_type": "execute_result"
    }
   ],
   "source": [
    "wine_df.memory_usage (deep=True)"
   ]
  },
  {
   "cell_type": "markdown",
   "metadata": {},
   "source": [
    "question : 2"
   ]
  },
  {
   "cell_type": "code",
   "execution_count": 81,
   "metadata": {},
   "outputs": [
    {
     "data": {
      "text/plain": [
       "alcohol                          13.000618\n",
       "malic_acid                        2.336348\n",
       "ash                               2.366517\n",
       "alcalinity_of_ash                19.494944\n",
       "magnesium                        99.741573\n",
       "total_phenols                     2.295112\n",
       "flavanoids                        2.029270\n",
       "nonflavanoid_phenols              0.361854\n",
       "proanthocyanins                   1.590899\n",
       "color_intensity                   5.058090\n",
       "hue                               0.957449\n",
       "od280/od315_of_diluted_wines      2.611685\n",
       "proline                         746.893258\n",
       "dtype: float64"
      ]
     },
     "execution_count": 81,
     "metadata": {},
     "output_type": "execute_result"
    }
   ],
   "source": [
    "\n",
    "wine_df.mean ()"
   ]
  },
  {
   "cell_type": "code",
   "execution_count": 82,
   "metadata": {},
   "outputs": [
    {
     "data": {
      "text/plain": [
       "alcohol                          13.050\n",
       "malic_acid                        1.865\n",
       "ash                               2.360\n",
       "alcalinity_of_ash                19.500\n",
       "magnesium                        98.000\n",
       "total_phenols                     2.355\n",
       "flavanoids                        2.135\n",
       "nonflavanoid_phenols              0.340\n",
       "proanthocyanins                   1.555\n",
       "color_intensity                   4.690\n",
       "hue                               0.965\n",
       "od280/od315_of_diluted_wines      2.780\n",
       "proline                         673.500\n",
       "dtype: float64"
      ]
     },
     "execution_count": 82,
     "metadata": {},
     "output_type": "execute_result"
    }
   ],
   "source": [
    "wine_df.median ()"
   ]
  },
  {
   "cell_type": "code",
   "execution_count": 83,
   "metadata": {},
   "outputs": [
    {
     "data": {
      "text/plain": [
       "alcohol                           14.83\n",
       "malic_acid                         5.80\n",
       "ash                                3.23\n",
       "alcalinity_of_ash                 30.00\n",
       "magnesium                        162.00\n",
       "total_phenols                      3.88\n",
       "flavanoids                         5.08\n",
       "nonflavanoid_phenols               0.66\n",
       "proanthocyanins                    3.58\n",
       "color_intensity                   13.00\n",
       "hue                                1.71\n",
       "od280/od315_of_diluted_wines       4.00\n",
       "proline                         1680.00\n",
       "dtype: float64"
      ]
     },
     "execution_count": 83,
     "metadata": {},
     "output_type": "execute_result"
    }
   ],
   "source": [
    "wine_df.max ()"
   ]
  },
  {
   "cell_type": "code",
   "execution_count": 84,
   "metadata": {},
   "outputs": [
    {
     "data": {
      "text/plain": [
       "alcohol                          11.03\n",
       "malic_acid                        0.74\n",
       "ash                               1.36\n",
       "alcalinity_of_ash                10.60\n",
       "magnesium                        70.00\n",
       "total_phenols                     0.98\n",
       "flavanoids                        0.34\n",
       "nonflavanoid_phenols              0.13\n",
       "proanthocyanins                   0.41\n",
       "color_intensity                   1.28\n",
       "hue                               0.48\n",
       "od280/od315_of_diluted_wines      1.27\n",
       "proline                         278.00\n",
       "dtype: float64"
      ]
     },
     "execution_count": 84,
     "metadata": {},
     "output_type": "execute_result"
    }
   ],
   "source": [
    "wine_df.min ()"
   ]
  },
  {
   "cell_type": "markdown",
   "metadata": {},
   "source": [
    "3)"
   ]
  },
  {
   "cell_type": "code",
   "execution_count": 85,
   "metadata": {},
   "outputs": [
    {
     "data": {
      "image/png": "[encoded data removed]",
      "text/plain": [
       "<Figure size 640x480 with 1 Axes>"
      ]
     },
     "metadata": {},
     "output_type": "display_data"
    }
   ],
   "source": [
    "lmabels = list (wine_df.columns )\n",
    "plt.hist (wine_df, label=lmabels)\n",
    "plt.show ()"
   ]
  },
  {
   "cell_type": "markdown",
   "metadata": {},
   "source": [
    "La valeur qui differet le plus est proline"
   ]
  },
  {
   "cell_type": "code",
   "execution_count": 86,
   "metadata": {},
   "outputs": [
    {
     "data": {
      "image/png": "[encoded data removed]",
      "text/plain": [
       "<Figure size 640x480 with 1 Axes>"
      ]
     },
     "metadata": {},
     "output_type": "display_data"
    }
   ],
   "source": [
    "plt.boxplot (wine_df)\n",
    "plt.show ()"
   ]
  },
  {
   "cell_type": "markdown",
   "metadata": {},
   "source": [
    "4)"
   ]
  },
  {
   "cell_type": "code",
   "execution_count": 87,
   "metadata": {},
   "outputs": [
    {
     "data": {
      "text/html": [
       "<div>\n",
       "<style scoped>\n",
       "    .dataframe tbody tr th:only-of-type {\n",
       "        vertical-align: middle;\n",
       "    }\n",
       "\n",
       "    .dataframe tbody tr th {\n",
       "        vertical-align: top;\n",
       "    }\n",
       "\n",
       "    .dataframe thead th {\n",
       "        text-align: right;\n",
       "    }\n",
       "</style>\n",
       "<table border=\"1\" class=\"dataframe\">\n",
       "  <thead>\n",
       "    <tr style=\"text-align: right;\">\n",
       "      <th></th>\n",
       "      <th>alcohol</th>\n",
       "      <th>malic_acid</th>\n",
       "      <th>ash</th>\n",
       "      <th>alcalinity_of_ash</th>\n",
       "      <th>magnesium</th>\n",
       "      <th>total_phenols</th>\n",
       "      <th>flavanoids</th>\n",
       "      <th>nonflavanoid_phenols</th>\n",
       "      <th>proanthocyanins</th>\n",
       "      <th>color_intensity</th>\n",
       "      <th>hue</th>\n",
       "      <th>od280/od315_of_diluted_wines</th>\n",
       "      <th>proline</th>\n",
       "    </tr>\n",
       "  </thead>\n",
       "  <tbody>\n",
       "    <tr>\n",
       "      <th>alcohol</th>\n",
       "      <td>1.000000</td>\n",
       "      <td>0.094397</td>\n",
       "      <td>0.211545</td>\n",
       "      <td>-0.310235</td>\n",
       "      <td>0.270798</td>\n",
       "      <td>0.289101</td>\n",
       "      <td>0.236815</td>\n",
       "      <td>-0.155929</td>\n",
       "      <td>0.136698</td>\n",
       "      <td>0.546364</td>\n",
       "      <td>-0.071747</td>\n",
       "      <td>0.072343</td>\n",
       "      <td>0.643720</td>\n",
       "    </tr>\n",
       "    <tr>\n",
       "      <th>malic_acid</th>\n",
       "      <td>0.094397</td>\n",
       "      <td>1.000000</td>\n",
       "      <td>0.164045</td>\n",
       "      <td>0.288500</td>\n",
       "      <td>-0.054575</td>\n",
       "      <td>-0.335167</td>\n",
       "      <td>-0.411007</td>\n",
       "      <td>0.292977</td>\n",
       "      <td>-0.220746</td>\n",
       "      <td>0.248985</td>\n",
       "      <td>-0.561296</td>\n",
       "      <td>-0.368710</td>\n",
       "      <td>-0.192011</td>\n",
       "    </tr>\n",
       "    <tr>\n",
       "      <th>ash</th>\n",
       "      <td>0.211545</td>\n",
       "      <td>0.164045</td>\n",
       "      <td>1.000000</td>\n",
       "      <td>0.443367</td>\n",
       "      <td>0.286587</td>\n",
       "      <td>0.128980</td>\n",
       "      <td>0.115077</td>\n",
       "      <td>0.186230</td>\n",
       "      <td>0.009652</td>\n",
       "      <td>0.258887</td>\n",
       "      <td>-0.074667</td>\n",
       "      <td>0.003911</td>\n",
       "      <td>0.223626</td>\n",
       "    </tr>\n",
       "    <tr>\n",
       "      <th>alcalinity_of_ash</th>\n",
       "      <td>-0.310235</td>\n",
       "      <td>0.288500</td>\n",
       "      <td>0.443367</td>\n",
       "      <td>1.000000</td>\n",
       "      <td>-0.083333</td>\n",
       "      <td>-0.321113</td>\n",
       "      <td>-0.351370</td>\n",
       "      <td>0.361922</td>\n",
       "      <td>-0.197327</td>\n",
       "      <td>0.018732</td>\n",
       "      <td>-0.273955</td>\n",
       "      <td>-0.276769</td>\n",
       "      <td>-0.440597</td>\n",
       "    </tr>\n",
       "    <tr>\n",
       "      <th>magnesium</th>\n",
       "      <td>0.270798</td>\n",
       "      <td>-0.054575</td>\n",
       "      <td>0.286587</td>\n",
       "      <td>-0.083333</td>\n",
       "      <td>1.000000</td>\n",
       "      <td>0.214401</td>\n",
       "      <td>0.195784</td>\n",
       "      <td>-0.256294</td>\n",
       "      <td>0.236441</td>\n",
       "      <td>0.199950</td>\n",
       "      <td>0.055398</td>\n",
       "      <td>0.066004</td>\n",
       "      <td>0.393351</td>\n",
       "    </tr>\n",
       "    <tr>\n",
       "      <th>total_phenols</th>\n",
       "      <td>0.289101</td>\n",
       "      <td>-0.335167</td>\n",
       "      <td>0.128980</td>\n",
       "      <td>-0.321113</td>\n",
       "      <td>0.214401</td>\n",
       "      <td>1.000000</td>\n",
       "      <td>0.864564</td>\n",
       "      <td>-0.449935</td>\n",
       "      <td>0.612413</td>\n",
       "      <td>-0.055136</td>\n",
       "      <td>0.433681</td>\n",
       "      <td>0.699949</td>\n",
       "      <td>0.498115</td>\n",
       "    </tr>\n",
       "    <tr>\n",
       "      <th>flavanoids</th>\n",
       "      <td>0.236815</td>\n",
       "      <td>-0.411007</td>\n",
       "      <td>0.115077</td>\n",
       "      <td>-0.351370</td>\n",
       "      <td>0.195784</td>\n",
       "      <td>0.864564</td>\n",
       "      <td>1.000000</td>\n",
       "      <td>-0.537900</td>\n",
       "      <td>0.652692</td>\n",
       "      <td>-0.172379</td>\n",
       "      <td>0.543479</td>\n",
       "      <td>0.787194</td>\n",
       "      <td>0.494193</td>\n",
       "    </tr>\n",
       "    <tr>\n",
       "      <th>nonflavanoid_phenols</th>\n",
       "      <td>-0.155929</td>\n",
       "      <td>0.292977</td>\n",
       "      <td>0.186230</td>\n",
       "      <td>0.361922</td>\n",
       "      <td>-0.256294</td>\n",
       "      <td>-0.449935</td>\n",
       "      <td>-0.537900</td>\n",
       "      <td>1.000000</td>\n",
       "      <td>-0.365845</td>\n",
       "      <td>0.139057</td>\n",
       "      <td>-0.262640</td>\n",
       "      <td>-0.503270</td>\n",
       "      <td>-0.311385</td>\n",
       "    </tr>\n",
       "    <tr>\n",
       "      <th>proanthocyanins</th>\n",
       "      <td>0.136698</td>\n",
       "      <td>-0.220746</td>\n",
       "      <td>0.009652</td>\n",
       "      <td>-0.197327</td>\n",
       "      <td>0.236441</td>\n",
       "      <td>0.612413</td>\n",
       "      <td>0.652692</td>\n",
       "      <td>-0.365845</td>\n",
       "      <td>1.000000</td>\n",
       "      <td>-0.025250</td>\n",
       "      <td>0.295544</td>\n",
       "      <td>0.519067</td>\n",
       "      <td>0.330417</td>\n",
       "    </tr>\n",
       "    <tr>\n",
       "      <th>color_intensity</th>\n",
       "      <td>0.546364</td>\n",
       "      <td>0.248985</td>\n",
       "      <td>0.258887</td>\n",
       "      <td>0.018732</td>\n",
       "      <td>0.199950</td>\n",
       "      <td>-0.055136</td>\n",
       "      <td>-0.172379</td>\n",
       "      <td>0.139057</td>\n",
       "      <td>-0.025250</td>\n",
       "      <td>1.000000</td>\n",
       "      <td>-0.521813</td>\n",
       "      <td>-0.428815</td>\n",
       "      <td>0.316100</td>\n",
       "    </tr>\n",
       "    <tr>\n",
       "      <th>hue</th>\n",
       "      <td>-0.071747</td>\n",
       "      <td>-0.561296</td>\n",
       "      <td>-0.074667</td>\n",
       "      <td>-0.273955</td>\n",
       "      <td>0.055398</td>\n",
       "      <td>0.433681</td>\n",
       "      <td>0.543479</td>\n",
       "      <td>-0.262640</td>\n",
       "      <td>0.295544</td>\n",
       "      <td>-0.521813</td>\n",
       "      <td>1.000000</td>\n",
       "      <td>0.565468</td>\n",
       "      <td>0.236183</td>\n",
       "    </tr>\n",
       "    <tr>\n",
       "      <th>od280/od315_of_diluted_wines</th>\n",
       "      <td>0.072343</td>\n",
       "      <td>-0.368710</td>\n",
       "      <td>0.003911</td>\n",
       "      <td>-0.276769</td>\n",
       "      <td>0.066004</td>\n",
       "      <td>0.699949</td>\n",
       "      <td>0.787194</td>\n",
       "      <td>-0.503270</td>\n",
       "      <td>0.519067</td>\n",
       "      <td>-0.428815</td>\n",
       "      <td>0.565468</td>\n",
       "      <td>1.000000</td>\n",
       "      <td>0.312761</td>\n",
       "    </tr>\n",
       "    <tr>\n",
       "      <th>proline</th>\n",
       "      <td>0.643720</td>\n",
       "      <td>-0.192011</td>\n",
       "      <td>0.223626</td>\n",
       "      <td>-0.440597</td>\n",
       "      <td>0.393351</td>\n",
       "      <td>0.498115</td>\n",
       "      <td>0.494193</td>\n",
       "      <td>-0.311385</td>\n",
       "      <td>0.330417</td>\n",
       "      <td>0.316100</td>\n",
       "      <td>0.236183</td>\n",
       "      <td>0.312761</td>\n",
       "      <td>1.000000</td>\n",
       "    </tr>\n",
       "  </tbody>\n",
       "</table>\n",
       "</div>"
      ],
      "text/plain": [
       "                               alcohol  malic_acid       ash  \\\n",
       "alcohol                       1.000000    0.094397  0.211545   \n",
       "malic_acid                    0.094397    1.000000  0.164045   \n",
       "ash                           0.211545    0.164045  1.000000   \n",
       "alcalinity_of_ash            -0.310235    0.288500  0.443367   \n",
       "magnesium                     0.270798   -0.054575  0.286587   \n",
       "total_phenols                 0.289101   -0.335167  0.128980   \n",
       "flavanoids                    0.236815   -0.411007  0.115077   \n",
       "nonflavanoid_phenols         -0.155929    0.292977  0.186230   \n",
       "proanthocyanins               0.136698   -0.220746  0.009652   \n",
       "color_intensity               0.546364    0.248985  0.258887   \n",
       "hue                          -0.071747   -0.561296 -0.074667   \n",
       "od280/od315_of_diluted_wines  0.072343   -0.368710  0.003911   \n",
       "proline                       0.643720   -0.192011  0.223626   \n",
       "\n",
       "                              alcalinity_of_ash  magnesium  total_phenols  \\\n",
       "alcohol                               -0.310235   0.270798       0.289101   \n",
       "malic_acid                             0.288500  -0.054575      -0.335167   \n",
       "ash                                    0.443367   0.286587       0.128980   \n",
       "alcalinity_of_ash                      1.000000  -0.083333      -0.321113   \n",
       "magnesium                             -0.083333   1.000000       0.214401   \n",
       "total_phenols                         -0.321113   0.214401       1.000000   \n",
       "flavanoids                            -0.351370   0.195784       0.864564   \n",
       "nonflavanoid_phenols                   0.361922  -0.256294      -0.449935   \n",
       "proanthocyanins                       -0.197327   0.236441       0.612413   \n",
       "color_intensity                        0.018732   0.199950      -0.055136   \n",
       "hue                                   -0.273955   0.055398       0.433681   \n",
       "od280/od315_of_diluted_wines          -0.276769   0.066004       0.699949   \n",
       "proline                               -0.440597   0.393351       0.498115   \n",
       "\n",
       "                              flavanoids  nonflavanoid_phenols  \\\n",
       "alcohol                         0.236815             -0.155929   \n",
       "malic_acid                     -0.411007              0.292977   \n",
       "ash                             0.115077              0.186230   \n",
       "alcalinity_of_ash              -0.351370              0.361922   \n",
       "magnesium                       0.195784             -0.256294   \n",
       "total_phenols                   0.864564             -0.449935   \n",
       "flavanoids                      1.000000             -0.537900   \n",
       "nonflavanoid_phenols           -0.537900              1.000000   \n",
       "proanthocyanins                 0.652692             -0.365845   \n",
       "color_intensity                -0.172379              0.139057   \n",
       "hue                             0.543479             -0.262640   \n",
       "od280/od315_of_diluted_wines    0.787194             -0.503270   \n",
       "proline                         0.494193             -0.311385   \n",
       "\n",
       "                              proanthocyanins  color_intensity       hue  \\\n",
       "alcohol                              0.136698         0.546364 -0.071747   \n",
       "malic_acid                          -0.220746         0.248985 -0.561296   \n",
       "ash                                  0.009652         0.258887 -0.074667   \n",
       "alcalinity_of_ash                   -0.197327         0.018732 -0.273955   \n",
       "magnesium                            0.236441         0.199950  0.055398   \n",
       "total_phenols                        0.612413        -0.055136  0.433681   \n",
       "flavanoids                           0.652692        -0.172379  0.543479   \n",
       "nonflavanoid_phenols                -0.365845         0.139057 -0.262640   \n",
       "proanthocyanins                      1.000000        -0.025250  0.295544   \n",
       "color_intensity                     -0.025250         1.000000 -0.521813   \n",
       "hue                                  0.295544        -0.521813  1.000000   \n",
       "od280/od315_of_diluted_wines         0.519067        -0.428815  0.565468   \n",
       "proline                              0.330417         0.316100  0.236183   \n",
       "\n",
       "                              od280/od315_of_diluted_wines   proline  \n",
       "alcohol                                           0.072343  0.643720  \n",
       "malic_acid                                       -0.368710 -0.192011  \n",
       "ash                                               0.003911  0.223626  \n",
       "alcalinity_of_ash                                -0.276769 -0.440597  \n",
       "magnesium                                         0.066004  0.393351  \n",
       "total_phenols                                     0.699949  0.498115  \n",
       "flavanoids                                        0.787194  0.494193  \n",
       "nonflavanoid_phenols                             -0.503270 -0.311385  \n",
       "proanthocyanins                                   0.519067  0.330417  \n",
       "color_intensity                                  -0.428815  0.316100  \n",
       "hue                                               0.565468  0.236183  \n",
       "od280/od315_of_diluted_wines                      1.000000  0.312761  \n",
       "proline                                           0.312761  1.000000  "
      ]
     },
     "execution_count": 87,
     "metadata": {},
     "output_type": "execute_result"
    }
   ],
   "source": [
    "wine_df.corr (method=\"pearson\")"
   ]
  },
  {
   "cell_type": "markdown",
   "metadata": {
    "id": "zC2cPCxmyBpR"
   },
   "source": [
    "-------------------------------------------"
   ]
  },
  {
   "cell_type": "markdown",
   "metadata": {
    "id": "uIGpt7c1yE8Z"
   },
   "source": [
    "## Job 16\n",
    "Une loi de probabilité décrit le comportement aléatoire d'un phénomène dépendant du hasard tels que les lancers de pièces, les dés, les jeux de cartes, et d'autres événements plus complexes.\n",
    "\n",
    "Considérons la Loi Normale, l'unes des plus importantes en probabilités et en statistique. Les lois normales sont parmi les lois de probabilité les plus utilisées pour modéliser des phénomènes naturels issus de plusieurs événements aléatoires. Elle est caractérisée par sa forme en cloche symétrique.\n",
    "\n",
    "**Simulez la Loi Normale $\\mathcal{N}(0, 1)$ où la moyenne est $0$ et l'écart-type est $1$ :**\n",
    "1. Générez des échantillons à partir de la distribution normale en utilisant la fonction `np.random.normal`\n",
    "\n",
    "2. Affichez l'histogramme des données\n",
    "\n",
    "3. Tracez la courbe de densité de probabilité théorique de $\\mathcal{N}(0, 1)$ en traçant la fonction $f(x)$ ci-dessous :\n",
    "\n",
    "$$ f(x) = \\frac{1}{1 \\sqrt{2\\pi}} \\times e^{-\\frac{1}{2} \\times x^2 }$$"
   ]
  },
  {
   "cell_type": "markdown",
   "metadata": {},
   "source": [
    "1)"
   ]
  },
  {
   "cell_type": "code",
   "execution_count": 88,
   "metadata": {
    "id": "YL8L6xcCzoDQ"
   },
   "outputs": [
    {
     "data": {
      "text/plain": [
       "array([ 0.46090941,  0.26420459,  0.5204068 ,  1.58502682,  0.18107106,\n",
       "        0.33239552, -0.02129129,  0.37555288,  0.21459299, -0.57521345,\n",
       "        0.28668197,  0.33527669, -0.53745482, -0.57850465, -1.75591668,\n",
       "        0.34547993,  1.64056013, -2.17679794,  0.21360619,  0.8765109 ,\n",
       "       -1.38079835, -1.1289145 , -0.91628778, -0.00476157,  0.47860249,\n",
       "       -0.39258413,  2.45857028, -0.6148138 ,  0.3910327 , -1.16974229,\n",
       "        0.66592147, -0.28443549,  0.60150637,  0.64576294,  1.10351746,\n",
       "       -1.19905596, -1.2263246 , -0.70888224, -0.50723077,  0.06483168,\n",
       "        1.32737538, -2.33592546, -0.14387076,  0.86903841,  1.39985797,\n",
       "        0.66358746,  1.05790863, -0.41717574,  0.2924748 , -0.22369779])"
      ]
     },
     "execution_count": 88,
     "metadata": {},
     "output_type": "execute_result"
    }
   ],
   "source": [
    "N_16 = np.random.normal (0, 1, 50)\n",
    "N_16"
   ]
  },
  {
   "cell_type": "markdown",
   "metadata": {},
   "source": [
    "2)"
   ]
  },
  {
   "cell_type": "code",
   "execution_count": 89,
   "metadata": {},
   "outputs": [
    {
     "data": {
      "image/png": "[encoded data removed]",
      "text/plain": [
       "<Figure size 640x480 with 1 Axes>"
      ]
     },
     "metadata": {},
     "output_type": "display_data"
    }
   ],
   "source": [
    "plt.hist(N_16)\n",
    "plt.show ()"
   ]
  },
  {
   "cell_type": "markdown",
   "metadata": {},
   "source": [
    "3)"
   ]
  },
  {
   "cell_type": "code",
   "execution_count": 90,
   "metadata": {},
   "outputs": [
    {
     "data": {
      "image/png": "[encoded data removed]",
      "text/plain": [
       "<Figure size 640x480 with 1 Axes>"
      ]
     },
     "metadata": {},
     "output_type": "display_data"
    }
   ],
   "source": [
    "def f(x):\n",
    "    return (1 / np.sqrt(2 * np.pi)) * np.exp(-0.5 * x**2)\n",
    "\n",
    "plt.stem(N_16, f(N_16),label=r'$f(x) = \\frac{1}{\\sqrt{2\\pi}} e^{-\\frac{1}{2} x^2}$')\n",
    "plt.legend()\n",
    "plt.show ()"
   ]
  },
  {
   "cell_type": "markdown",
   "metadata": {
    "id": "MzR1Pu8BwXih"
   },
   "source": [
    "----------------------------------"
   ]
  },
  {
   "cell_type": "markdown",
   "metadata": {
    "id": "HM9Q73J0U9WB"
   },
   "source": [
    "# Calcul de dérivée"
   ]
  },
  {
   "cell_type": "markdown",
   "metadata": {
    "id": "EzuMXD8pP5CX"
   },
   "source": [
    "## Job 17\n",
    "\n",
    "En mathématiques, la dérivée d'une fonction d'une variable réelle mesure l'ampleur du changement de la valeur de la fonction (valeur de sortie) par rapport à un petit changement de son argument (valeur d'entrée). Les calculs de dérivées sont un outil fondamental du calcul infinitésimal. Par exemple, la dérivée de la position d'un objet en mouvement par rapport au temps est la vitesse (instantanée) de l'objet.\n",
    "\n",
    "\\\n",
    "\n",
    "Calculez la dérivée des fonctions suivantes à l'aide la librairie `SymPy` :\n",
    "\n",
    "1. $f(x) = 3x^2 - 2x + 5$\n",
    "\n",
    "2. $g(x) = \\frac{2}{x^2}$\n",
    "\n",
    "3. $h(x) = \\sqrt{3x - 1}$\n",
    "\n",
    "4. $k(x) = e^{x}$\n",
    "\n",
    "5. $l(x) = ln(x)$\n",
    "\n",
    "6. $p(x) = \\sqrt{x} + 2x^3$\n",
    "\n",
    "7. $q(x) = sin(x)$\n",
    "\n",
    "8. $r(x) = \\frac{x^2 + 1}{x-1}$"
   ]
  },
  {
   "cell_type": "code",
   "execution_count": 92,
   "metadata": {},
   "outputs": [],
   "source": [
    "x = sp.symbols('x')"
   ]
  },
  {
   "cell_type": "markdown",
   "metadata": {},
   "source": [
    "1)"
   ]
  },
  {
   "cell_type": "code",
   "execution_count": null,
   "metadata": {
    "id": "v1S2lF7iUbGd"
   },
   "outputs": [
    {
     "data": {
      "text/latex": [
       "$\\displaystyle 6 x - 2$"
      ],
      "text/plain": [
       "6*x - 2"
      ]
     },
     "execution_count": 93,
     "metadata": {},
     "output_type": "execute_result"
    }
   ],
   "source": [
    "f = (3 * x**2 - 2*x + 5)\n",
    "\n",
    "sp.diff (f, x)"
   ]
  },
  {
   "cell_type": "markdown",
   "metadata": {},
   "source": [
    "2)"
   ]
  },
  {
   "cell_type": "code",
   "execution_count": null,
   "metadata": {},
   "outputs": [
    {
     "data": {
      "text/latex": [
       "$\\displaystyle - \\frac{4}{x^{3}}$"
      ],
      "text/plain": [
       "-4/x**3"
      ]
     },
     "execution_count": 94,
     "metadata": {},
     "output_type": "execute_result"
    }
   ],
   "source": [
    "g = 2 / x**2\n",
    "sp.diff (g,x)"
   ]
  },
  {
   "cell_type": "markdown",
   "metadata": {},
   "source": [
    "3)"
   ]
  },
  {
   "cell_type": "code",
   "execution_count": null,
   "metadata": {},
   "outputs": [
    {
     "data": {
      "text/latex": [
       "$\\displaystyle \\frac{3}{2 \\sqrt{3 x - 1}}$"
      ],
      "text/plain": [
       "3/(2*sqrt(3*x - 1))"
      ]
     },
     "execution_count": 95,
     "metadata": {},
     "output_type": "execute_result"
    }
   ],
   "source": [
    "h = sp.sqrt (3 * x - 1)\n",
    "sp.diff (h, x)"
   ]
  },
  {
   "cell_type": "markdown",
   "metadata": {},
   "source": [
    "4)"
   ]
  },
  {
   "cell_type": "code",
   "execution_count": null,
   "metadata": {},
   "outputs": [
    {
     "data": {
      "text/latex": [
       "$\\displaystyle e^{x}$"
      ],
      "text/plain": [
       "exp(x)"
      ]
     },
     "execution_count": 96,
     "metadata": {},
     "output_type": "execute_result"
    }
   ],
   "source": [
    "k = sp.exp (x)\n",
    "sp.diff (k, x)"
   ]
  },
  {
   "cell_type": "markdown",
   "metadata": {},
   "source": [
    "5)"
   ]
  },
  {
   "cell_type": "code",
   "execution_count": null,
   "metadata": {},
   "outputs": [
    {
     "data": {
      "text/latex": [
       "$\\displaystyle \\frac{1}{x}$"
      ],
      "text/plain": [
       "1/x"
      ]
     },
     "execution_count": 97,
     "metadata": {},
     "output_type": "execute_result"
    }
   ],
   "source": [
    "l = sp.ln (x)\n",
    "sp.diff (l, x)"
   ]
  },
  {
   "cell_type": "markdown",
   "metadata": {},
   "source": [
    "6)"
   ]
  },
  {
   "cell_type": "code",
   "execution_count": null,
   "metadata": {},
   "outputs": [
    {
     "data": {
      "text/latex": [
       "$\\displaystyle 4 x + \\frac{1}{2 \\sqrt{x}}$"
      ],
      "text/plain": [
       "4*x + 1/(2*sqrt(x))"
      ]
     },
     "execution_count": 98,
     "metadata": {},
     "output_type": "execute_result"
    }
   ],
   "source": [
    "p = (sp.sqrt (x)) + 2 * x**2\n",
    "sp.diff (p, x)"
   ]
  },
  {
   "cell_type": "markdown",
   "metadata": {},
   "source": [
    "7)"
   ]
  },
  {
   "cell_type": "code",
   "execution_count": null,
   "metadata": {},
   "outputs": [
    {
     "data": {
      "text/latex": [
       "$\\displaystyle \\cos{\\left(x \\right)}$"
      ],
      "text/plain": [
       "cos(x)"
      ]
     },
     "execution_count": 99,
     "metadata": {},
     "output_type": "execute_result"
    }
   ],
   "source": [
    "q = sp.sin (x)\n",
    "sp.diff (q, x)"
   ]
  },
  {
   "cell_type": "markdown",
   "metadata": {},
   "source": [
    "8)"
   ]
  },
  {
   "cell_type": "code",
   "execution_count": null,
   "metadata": {},
   "outputs": [
    {
     "data": {
      "text/latex": [
       "$\\displaystyle \\frac{2 x}{x - 1} - \\frac{x^{2} + 1}{\\left(x - 1\\right)^{2}}$"
      ],
      "text/plain": [
       "2*x/(x - 1) - (x**2 + 1)/(x - 1)**2"
      ]
     },
     "execution_count": 100,
     "metadata": {},
     "output_type": "execute_result"
    }
   ],
   "source": [
    "r = (x**2 + 1) / (x - 1)\n",
    "sp.diff (r, x)"
   ]
  },
  {
   "cell_type": "markdown",
   "metadata": {
    "id": "lCCEJlbCYbOG"
   },
   "source": [
    "----------------------------------------------------------------------"
   ]
  },
  {
   "cell_type": "markdown",
   "metadata": {
    "id": "MF70NYVuJNty"
   },
   "source": [
    "# Toujours plus loin..."
   ]
  },
  {
   "cell_type": "markdown",
   "metadata": {
    "id": "uA0coLJoPxyx"
   },
   "source": [
    "## **Job Bonus 1**\n",
    "A l'aide de ce que vous avez appris dans le *job 16*, réalisez une simulation du **Théorème Central Limit**.\n",
    "\n",
    "*Pour des raisons d'organisation et de lisibilité de votre notebook, créez votre implémentation dans des fichiers .py que vous viendrez appeler à l'aide de la cellule ci-dessous :*"
   ]
  },
  {
   "cell_type": "code",
   "execution_count": null,
   "metadata": {
    "id": "RVbjzQVXP1kL"
   },
   "outputs": [],
   "source": []
  },
  {
   "cell_type": "markdown",
   "metadata": {
    "id": "iUoIMe-JYdrP"
   },
   "source": [
    "----------------------------------------------------------------------"
   ]
  },
  {
   "cell_type": "markdown",
   "metadata": {
    "id": "JIQ8RlMGwZyt"
   },
   "source": [
    "## **Job Bonus 2**\n",
    "\n",
    "**Un algorithme de tri, notion fondamentale en informatique ou en mathématiques, est un algorithme qui permet d'organiser une collection d'objets selon une relation d'ordre déterminée. Suivant la relation d'ordre considérée, une même collection d’objet peut donner lieu à divers arrangements.**\n",
    "\n",
    "Par exemple, on pourrait trier un tableau `tab` d'entiers naturels de $1$ à $N$ dans un ordre croissant ou décroissant.\n",
    "\n",
    "L'implémentation des algorithmes de tri est un excellent exercice pour comprendre des concepts fondamentaux de la programmation, comprendre d'autres algorithmes et se préparer à des entretiens techniques.\n",
    "\n",
    "Tentez d'implémenter un ou plusieurs des algorithmes de tri suivants :\n",
    "\n",
    "* **Tri à bulles (bubble sort)**\n",
    "* **Tri par insertion (Insertion sort)**\n",
    "* **Tri fusion (merge sort)**\n",
    "* **Tri rapide (quick sort)**\n",
    "\n",
    "\n",
    "\n",
    "*Pour des raisons d'organisation et lisibilité de votre notebook, créez vos différentes implémentations des algorithmes de tri dans des fichiers .py que vous viendrez appeler à l'aide de la cellule ci-dessous :*"
   ]
  },
  {
   "cell_type": "code",
   "execution_count": 101,
   "metadata": {
    "id": "q3BmeEQSxM0g"
   },
   "outputs": [
    {
     "name": "stdout",
     "output_type": "stream",
     "text": [
      "This is my original list: [64, 34, 25, 12, 22, 11, 90]\n"
     ]
    },
    {
     "ename": "NameError",
     "evalue": "name 'some_sorting_alg' is not defined",
     "output_type": "error",
     "traceback": [
      "\u001b[1;31m---------------------------------------------------------------------------\u001b[0m",
      "\u001b[1;31mNameError\u001b[0m                                 Traceback (most recent call last)",
      "Cell \u001b[1;32mIn[101], line 8\u001b[0m\n\u001b[0;32m      5\u001b[0m \u001b[38;5;28mprint\u001b[39m(\u001b[38;5;124m\"\u001b[39m\u001b[38;5;124mThis is my original list:\u001b[39m\u001b[38;5;124m\"\u001b[39m, input_list)\n\u001b[0;32m      7\u001b[0m \u001b[38;5;66;03m# Tri de la list à l'aide d'un algorithme donné - ?\u001b[39;00m\n\u001b[1;32m----> 8\u001b[0m sorted_list \u001b[38;5;241m=\u001b[39m \u001b[43msome_sorting_alg\u001b[49m (input_list)\n\u001b[0;32m     10\u001b[0m \u001b[38;5;28mprint\u001b[39m(\u001b[38;5;124m\"\u001b[39m\u001b[38;5;124mThis is my sorted list:\u001b[39m\u001b[38;5;124m\"\u001b[39m, sorted_list)\n",
      "\u001b[1;31mNameError\u001b[0m: name 'some_sorting_alg' is not defined"
     ]
    }
   ],
   "source": [
    "# Example of a list to be sorted - feel free to try something else!\n",
    "\n",
    "input_list = [64, 34, 25, 12, 22, 11, 90]\n",
    "\n",
    "print(\"This is my original list:\", input_list)\n",
    "\n",
    "# Tri de la list à l'aide d'un algorithme donné - ?\n",
    "sorted_list = some_sorting_alg (input_list)\n",
    "\n",
    "print(\"This is my sorted list:\", sorted_list)"
   ]
  }
 ],
 "metadata": {
  "colab": {
   "provenance": [],
   "toc_visible": true
  },
  "kernelspec": {
   "display_name": "Python 3",
   "language": "python",
   "name": "python3"
  },
  "language_info": {
   "codemirror_mode": {
    "name": "ipython",
    "version": 3
   },
   "file_extension": ".py",
   "mimetype": "text/x-python",
   "name": "python",
   "nbconvert_exporter": "python",
   "pygments_lexer": "ipython3",
   "version": "3.12.1"
  }
 },
 "nbformat": 4,
 "nbformat_minor": 4
}
